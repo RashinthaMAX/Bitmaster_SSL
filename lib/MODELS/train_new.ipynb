{
 "cells": [
  {
   "cell_type": "code",
   "execution_count": 1,
   "id": "0feadca1-f97e-420f-be33-3e26af76cff3",
   "metadata": {},
   "outputs": [
    {
     "name": "stdout",
     "output_type": "stream",
     "text": [
      "Requirement already satisfied: librosa in c:\\users\\asus\\pycharmprojects\\voicemodel\\venv\\lib\\site-packages (0.10.2.post1)\n",
      "Requirement already satisfied: tensorflow in c:\\users\\asus\\pycharmprojects\\voicemodel\\venv\\lib\\site-packages (2.18.0)\n",
      "Requirement already satisfied: pandas in c:\\users\\asus\\pycharmprojects\\voicemodel\\venv\\lib\\site-packages (2.2.3)\n",
      "Requirement already satisfied: numpy in c:\\users\\asus\\pycharmprojects\\voicemodel\\venv\\lib\\site-packages (2.0.2)\n",
      "Requirement already satisfied: scikit-learn in c:\\users\\asus\\pycharmprojects\\voicemodel\\venv\\lib\\site-packages (1.5.2)\n",
      "Requirement already satisfied: audioread>=2.1.9 in c:\\users\\asus\\pycharmprojects\\voicemodel\\venv\\lib\\site-packages (from librosa) (3.0.1)\n",
      "Requirement already satisfied: scipy>=1.2.0 in c:\\users\\asus\\pycharmprojects\\voicemodel\\venv\\lib\\site-packages (from librosa) (1.14.1)\n",
      "Requirement already satisfied: joblib>=0.14 in c:\\users\\asus\\pycharmprojects\\voicemodel\\venv\\lib\\site-packages (from librosa) (1.4.2)\n",
      "Requirement already satisfied: decorator>=4.3.0 in c:\\users\\asus\\pycharmprojects\\voicemodel\\venv\\lib\\site-packages (from librosa) (5.1.1)\n",
      "Requirement already satisfied: numba>=0.51.0 in c:\\users\\asus\\pycharmprojects\\voicemodel\\venv\\lib\\site-packages (from librosa) (0.60.0)\n",
      "Requirement already satisfied: soundfile>=0.12.1 in c:\\users\\asus\\pycharmprojects\\voicemodel\\venv\\lib\\site-packages (from librosa) (0.12.1)\n",
      "Requirement already satisfied: pooch>=1.1 in c:\\users\\asus\\pycharmprojects\\voicemodel\\venv\\lib\\site-packages (from librosa) (1.8.2)\n",
      "Requirement already satisfied: soxr>=0.3.2 in c:\\users\\asus\\pycharmprojects\\voicemodel\\venv\\lib\\site-packages (from librosa) (0.5.0.post1)\n",
      "Requirement already satisfied: typing-extensions>=4.1.1 in c:\\users\\asus\\pycharmprojects\\voicemodel\\venv\\lib\\site-packages (from librosa) (4.12.2)\n",
      "Requirement already satisfied: lazy-loader>=0.1 in c:\\users\\asus\\pycharmprojects\\voicemodel\\venv\\lib\\site-packages (from librosa) (0.4)\n",
      "Requirement already satisfied: msgpack>=1.0 in c:\\users\\asus\\pycharmprojects\\voicemodel\\venv\\lib\\site-packages (from librosa) (1.1.0)\n",
      "Requirement already satisfied: tensorflow-intel==2.18.0 in c:\\users\\asus\\pycharmprojects\\voicemodel\\venv\\lib\\site-packages (from tensorflow) (2.18.0)\n",
      "Requirement already satisfied: absl-py>=1.0.0 in c:\\users\\asus\\pycharmprojects\\voicemodel\\venv\\lib\\site-packages (from tensorflow-intel==2.18.0->tensorflow) (2.1.0)\n",
      "Requirement already satisfied: astunparse>=1.6.0 in c:\\users\\asus\\pycharmprojects\\voicemodel\\venv\\lib\\site-packages (from tensorflow-intel==2.18.0->tensorflow) (1.6.3)\n",
      "Requirement already satisfied: flatbuffers>=24.3.25 in c:\\users\\asus\\pycharmprojects\\voicemodel\\venv\\lib\\site-packages (from tensorflow-intel==2.18.0->tensorflow) (24.3.25)\n",
      "Requirement already satisfied: gast!=0.5.0,!=0.5.1,!=0.5.2,>=0.2.1 in c:\\users\\asus\\pycharmprojects\\voicemodel\\venv\\lib\\site-packages (from tensorflow-intel==2.18.0->tensorflow) (0.6.0)\n",
      "Requirement already satisfied: google-pasta>=0.1.1 in c:\\users\\asus\\pycharmprojects\\voicemodel\\venv\\lib\\site-packages (from tensorflow-intel==2.18.0->tensorflow) (0.2.0)\n",
      "Requirement already satisfied: libclang>=13.0.0 in c:\\users\\asus\\pycharmprojects\\voicemodel\\venv\\lib\\site-packages (from tensorflow-intel==2.18.0->tensorflow) (18.1.1)\n",
      "Requirement already satisfied: opt-einsum>=2.3.2 in c:\\users\\asus\\pycharmprojects\\voicemodel\\venv\\lib\\site-packages (from tensorflow-intel==2.18.0->tensorflow) (3.4.0)\n",
      "Requirement already satisfied: packaging in c:\\users\\asus\\pycharmprojects\\voicemodel\\venv\\lib\\site-packages (from tensorflow-intel==2.18.0->tensorflow) (24.1)\n",
      "Requirement already satisfied: protobuf!=4.21.0,!=4.21.1,!=4.21.2,!=4.21.3,!=4.21.4,!=4.21.5,<6.0.0dev,>=3.20.3 in c:\\users\\asus\\pycharmprojects\\voicemodel\\venv\\lib\\site-packages (from tensorflow-intel==2.18.0->tensorflow) (5.28.3)\n",
      "Requirement already satisfied: requests<3,>=2.21.0 in c:\\users\\asus\\pycharmprojects\\voicemodel\\venv\\lib\\site-packages (from tensorflow-intel==2.18.0->tensorflow) (2.32.3)\n",
      "Requirement already satisfied: setuptools in c:\\users\\asus\\pycharmprojects\\voicemodel\\venv\\lib\\site-packages (from tensorflow-intel==2.18.0->tensorflow) (75.3.0)\n",
      "Requirement already satisfied: six>=1.12.0 in c:\\users\\asus\\pycharmprojects\\voicemodel\\venv\\lib\\site-packages (from tensorflow-intel==2.18.0->tensorflow) (1.16.0)\n",
      "Requirement already satisfied: termcolor>=1.1.0 in c:\\users\\asus\\pycharmprojects\\voicemodel\\venv\\lib\\site-packages (from tensorflow-intel==2.18.0->tensorflow) (2.5.0)\n",
      "Requirement already satisfied: wrapt>=1.11.0 in c:\\users\\asus\\pycharmprojects\\voicemodel\\venv\\lib\\site-packages (from tensorflow-intel==2.18.0->tensorflow) (1.16.0)\n",
      "Requirement already satisfied: grpcio<2.0,>=1.24.3 in c:\\users\\asus\\pycharmprojects\\voicemodel\\venv\\lib\\site-packages (from tensorflow-intel==2.18.0->tensorflow) (1.67.1)\n",
      "Requirement already satisfied: tensorboard<2.19,>=2.18 in c:\\users\\asus\\pycharmprojects\\voicemodel\\venv\\lib\\site-packages (from tensorflow-intel==2.18.0->tensorflow) (2.18.0)\n",
      "Requirement already satisfied: keras>=3.5.0 in c:\\users\\asus\\pycharmprojects\\voicemodel\\venv\\lib\\site-packages (from tensorflow-intel==2.18.0->tensorflow) (3.6.0)\n",
      "Requirement already satisfied: h5py>=3.11.0 in c:\\users\\asus\\pycharmprojects\\voicemodel\\venv\\lib\\site-packages (from tensorflow-intel==2.18.0->tensorflow) (3.12.1)\n",
      "Requirement already satisfied: ml-dtypes<0.5.0,>=0.4.0 in c:\\users\\asus\\pycharmprojects\\voicemodel\\venv\\lib\\site-packages (from tensorflow-intel==2.18.0->tensorflow) (0.4.1)\n",
      "Requirement already satisfied: python-dateutil>=2.8.2 in c:\\users\\asus\\pycharmprojects\\voicemodel\\venv\\lib\\site-packages (from pandas) (2.9.0.post0)\n",
      "Requirement already satisfied: pytz>=2020.1 in c:\\users\\asus\\pycharmprojects\\voicemodel\\venv\\lib\\site-packages (from pandas) (2024.2)\n",
      "Requirement already satisfied: tzdata>=2022.7 in c:\\users\\asus\\pycharmprojects\\voicemodel\\venv\\lib\\site-packages (from pandas) (2024.2)\n",
      "Requirement already satisfied: threadpoolctl>=3.1.0 in c:\\users\\asus\\pycharmprojects\\voicemodel\\venv\\lib\\site-packages (from scikit-learn) (3.5.0)\n",
      "Requirement already satisfied: llvmlite<0.44,>=0.43.0dev0 in c:\\users\\asus\\pycharmprojects\\voicemodel\\venv\\lib\\site-packages (from numba>=0.51.0->librosa) (0.43.0)\n",
      "Requirement already satisfied: platformdirs>=2.5.0 in c:\\users\\asus\\pycharmprojects\\voicemodel\\venv\\lib\\site-packages (from pooch>=1.1->librosa) (4.3.6)\n",
      "Requirement already satisfied: cffi>=1.0 in c:\\users\\asus\\pycharmprojects\\voicemodel\\venv\\lib\\site-packages (from soundfile>=0.12.1->librosa) (1.17.1)\n",
      "Requirement already satisfied: wheel<1.0,>=0.23.0 in c:\\users\\asus\\pycharmprojects\\voicemodel\\venv\\lib\\site-packages (from astunparse>=1.6.0->tensorflow-intel==2.18.0->tensorflow) (0.45.0)\n",
      "Requirement already satisfied: pycparser in c:\\users\\asus\\pycharmprojects\\voicemodel\\venv\\lib\\site-packages (from cffi>=1.0->soundfile>=0.12.1->librosa) (2.22)\n",
      "Requirement already satisfied: rich in c:\\users\\asus\\pycharmprojects\\voicemodel\\venv\\lib\\site-packages (from keras>=3.5.0->tensorflow-intel==2.18.0->tensorflow) (13.9.4)\n",
      "Requirement already satisfied: namex in c:\\users\\asus\\pycharmprojects\\voicemodel\\venv\\lib\\site-packages (from keras>=3.5.0->tensorflow-intel==2.18.0->tensorflow) (0.0.8)\n",
      "Requirement already satisfied: optree in c:\\users\\asus\\pycharmprojects\\voicemodel\\venv\\lib\\site-packages (from keras>=3.5.0->tensorflow-intel==2.18.0->tensorflow) (0.13.0)\n",
      "Requirement already satisfied: charset-normalizer<4,>=2 in c:\\users\\asus\\pycharmprojects\\voicemodel\\venv\\lib\\site-packages (from requests<3,>=2.21.0->tensorflow-intel==2.18.0->tensorflow) (3.4.0)\n",
      "Requirement already satisfied: idna<4,>=2.5 in c:\\users\\asus\\pycharmprojects\\voicemodel\\venv\\lib\\site-packages (from requests<3,>=2.21.0->tensorflow-intel==2.18.0->tensorflow) (3.10)\n",
      "Requirement already satisfied: urllib3<3,>=1.21.1 in c:\\users\\asus\\pycharmprojects\\voicemodel\\venv\\lib\\site-packages (from requests<3,>=2.21.0->tensorflow-intel==2.18.0->tensorflow) (2.2.3)\n",
      "Requirement already satisfied: certifi>=2017.4.17 in c:\\users\\asus\\pycharmprojects\\voicemodel\\venv\\lib\\site-packages (from requests<3,>=2.21.0->tensorflow-intel==2.18.0->tensorflow) (2024.8.30)\n",
      "Requirement already satisfied: markdown>=2.6.8 in c:\\users\\asus\\pycharmprojects\\voicemodel\\venv\\lib\\site-packages (from tensorboard<2.19,>=2.18->tensorflow-intel==2.18.0->tensorflow) (3.7)\n",
      "Requirement already satisfied: tensorboard-data-server<0.8.0,>=0.7.0 in c:\\users\\asus\\pycharmprojects\\voicemodel\\venv\\lib\\site-packages (from tensorboard<2.19,>=2.18->tensorflow-intel==2.18.0->tensorflow) (0.7.2)\n",
      "Requirement already satisfied: werkzeug>=1.0.1 in c:\\users\\asus\\pycharmprojects\\voicemodel\\venv\\lib\\site-packages (from tensorboard<2.19,>=2.18->tensorflow-intel==2.18.0->tensorflow) (3.1.3)\n",
      "Requirement already satisfied: MarkupSafe>=2.1.1 in c:\\users\\asus\\pycharmprojects\\voicemodel\\venv\\lib\\site-packages (from werkzeug>=1.0.1->tensorboard<2.19,>=2.18->tensorflow-intel==2.18.0->tensorflow) (3.0.2)\n",
      "Requirement already satisfied: markdown-it-py>=2.2.0 in c:\\users\\asus\\pycharmprojects\\voicemodel\\venv\\lib\\site-packages (from rich->keras>=3.5.0->tensorflow-intel==2.18.0->tensorflow) (3.0.0)\n",
      "Requirement already satisfied: pygments<3.0.0,>=2.13.0 in c:\\users\\asus\\pycharmprojects\\voicemodel\\venv\\lib\\site-packages (from rich->keras>=3.5.0->tensorflow-intel==2.18.0->tensorflow) (2.18.0)\n",
      "Requirement already satisfied: mdurl~=0.1 in c:\\users\\asus\\pycharmprojects\\voicemodel\\venv\\lib\\site-packages (from markdown-it-py>=2.2.0->rich->keras>=3.5.0->tensorflow-intel==2.18.0->tensorflow) (0.1.2)\n"
     ]
    }
   ],
   "source": [
    "!pip install librosa tensorflow pandas numpy scikit-learn"
   ]
  },
  {
   "cell_type": "code",
   "execution_count": 2,
   "id": "97a495b6-8406-4dc9-a99e-c5a6af5129e6",
   "metadata": {},
   "outputs": [],
   "source": [
    "import pandas as pd\n",
    "import numpy as np\n",
    "from sklearn.model_selection import train_test_split\n",
    "from sklearn.preprocessing import LabelEncoder\n",
    "from tensorflow.keras.utils import to_categorical\n",
    "\n",
    "# Load data\n",
    "df = pd.read_csv(\"C:/Users/ASUS/Desktop/augmented_features_original.csv\", header=None)\n",
    "\n",
    "# Separate labels and features\n",
    "labels = df.iloc[:, 0]\n",
    "features = df.iloc[:, 1:]\n",
    "\n",
    "# Reshape features to [samples, height, width, channels]\n",
    "num_mfcc = 13  # Number of MFCC coefficients\n",
    "max_pad_len = 100  # Time steps\n",
    "features = np.array(features).reshape(-1, num_mfcc, max_pad_len, 1)\n",
    "\n",
    "# Encode labels\n",
    "label_encoder = LabelEncoder()\n",
    "labels = label_encoder.fit_transform(labels)\n",
    "labels = to_categorical(labels)  # One-hot encode the labels\n",
    "\n",
    "# Train-test split\n",
    "X_train, X_test, y_train, y_test = train_test_split(features, labels, test_size=0.2, random_state=42)"
   ]
  },
  {
   "cell_type": "code",
   "execution_count": 3,
   "id": "55c859ff-dd79-44ac-bb69-d22f30d30203",
   "metadata": {},
   "outputs": [
    {
     "name": "stderr",
     "output_type": "stream",
     "text": [
      "C:\\Users\\ASUS\\PycharmProjects\\voicemodel\\venv\\Lib\\site-packages\\keras\\src\\layers\\convolutional\\base_conv.py:107: UserWarning: Do not pass an `input_shape`/`input_dim` argument to a layer. When using Sequential models, prefer using an `Input(shape)` object as the first layer in the model instead.\n",
      "  super().__init__(activity_regularizer=activity_regularizer, **kwargs)\n"
     ]
    },
    {
     "data": {
      "text/html": [
       "<pre style=\"white-space:pre;overflow-x:auto;line-height:normal;font-family:Menlo,'DejaVu Sans Mono',consolas,'Courier New',monospace\"><span style=\"font-weight: bold\">Model: \"sequential\"</span>\n",
       "</pre>\n"
      ],
      "text/plain": [
       "\u001b[1mModel: \"sequential\"\u001b[0m\n"
      ]
     },
     "metadata": {},
     "output_type": "display_data"
    },
    {
     "data": {
      "text/html": [
       "<pre style=\"white-space:pre;overflow-x:auto;line-height:normal;font-family:Menlo,'DejaVu Sans Mono',consolas,'Courier New',monospace\">┏━━━━━━━━━━━━━━━━━━━━━━━━━━━━━━━━━━━━━━┳━━━━━━━━━━━━━━━━━━━━━━━━━━━━━┳━━━━━━━━━━━━━━━━━┓\n",
       "┃<span style=\"font-weight: bold\"> Layer (type)                         </span>┃<span style=\"font-weight: bold\"> Output Shape                </span>┃<span style=\"font-weight: bold\">         Param # </span>┃\n",
       "┡━━━━━━━━━━━━━━━━━━━━━━━━━━━━━━━━━━━━━━╇━━━━━━━━━━━━━━━━━━━━━━━━━━━━━╇━━━━━━━━━━━━━━━━━┩\n",
       "│ conv2d (<span style=\"color: #0087ff; text-decoration-color: #0087ff\">Conv2D</span>)                      │ (<span style=\"color: #00d7ff; text-decoration-color: #00d7ff\">None</span>, <span style=\"color: #00af00; text-decoration-color: #00af00\">11</span>, <span style=\"color: #00af00; text-decoration-color: #00af00\">98</span>, <span style=\"color: #00af00; text-decoration-color: #00af00\">32</span>)          │             <span style=\"color: #00af00; text-decoration-color: #00af00\">320</span> │\n",
       "├──────────────────────────────────────┼─────────────────────────────┼─────────────────┤\n",
       "│ max_pooling2d (<span style=\"color: #0087ff; text-decoration-color: #0087ff\">MaxPooling2D</span>)         │ (<span style=\"color: #00d7ff; text-decoration-color: #00d7ff\">None</span>, <span style=\"color: #00af00; text-decoration-color: #00af00\">5</span>, <span style=\"color: #00af00; text-decoration-color: #00af00\">49</span>, <span style=\"color: #00af00; text-decoration-color: #00af00\">32</span>)           │               <span style=\"color: #00af00; text-decoration-color: #00af00\">0</span> │\n",
       "├──────────────────────────────────────┼─────────────────────────────┼─────────────────┤\n",
       "│ conv2d_1 (<span style=\"color: #0087ff; text-decoration-color: #0087ff\">Conv2D</span>)                    │ (<span style=\"color: #00d7ff; text-decoration-color: #00d7ff\">None</span>, <span style=\"color: #00af00; text-decoration-color: #00af00\">3</span>, <span style=\"color: #00af00; text-decoration-color: #00af00\">47</span>, <span style=\"color: #00af00; text-decoration-color: #00af00\">64</span>)           │          <span style=\"color: #00af00; text-decoration-color: #00af00\">18,496</span> │\n",
       "├──────────────────────────────────────┼─────────────────────────────┼─────────────────┤\n",
       "│ max_pooling2d_1 (<span style=\"color: #0087ff; text-decoration-color: #0087ff\">MaxPooling2D</span>)       │ (<span style=\"color: #00d7ff; text-decoration-color: #00d7ff\">None</span>, <span style=\"color: #00af00; text-decoration-color: #00af00\">1</span>, <span style=\"color: #00af00; text-decoration-color: #00af00\">23</span>, <span style=\"color: #00af00; text-decoration-color: #00af00\">64</span>)           │               <span style=\"color: #00af00; text-decoration-color: #00af00\">0</span> │\n",
       "├──────────────────────────────────────┼─────────────────────────────┼─────────────────┤\n",
       "│ flatten (<span style=\"color: #0087ff; text-decoration-color: #0087ff\">Flatten</span>)                    │ (<span style=\"color: #00d7ff; text-decoration-color: #00d7ff\">None</span>, <span style=\"color: #00af00; text-decoration-color: #00af00\">1472</span>)                │               <span style=\"color: #00af00; text-decoration-color: #00af00\">0</span> │\n",
       "├──────────────────────────────────────┼─────────────────────────────┼─────────────────┤\n",
       "│ dense (<span style=\"color: #0087ff; text-decoration-color: #0087ff\">Dense</span>)                        │ (<span style=\"color: #00d7ff; text-decoration-color: #00d7ff\">None</span>, <span style=\"color: #00af00; text-decoration-color: #00af00\">128</span>)                 │         <span style=\"color: #00af00; text-decoration-color: #00af00\">188,544</span> │\n",
       "├──────────────────────────────────────┼─────────────────────────────┼─────────────────┤\n",
       "│ dropout (<span style=\"color: #0087ff; text-decoration-color: #0087ff\">Dropout</span>)                    │ (<span style=\"color: #00d7ff; text-decoration-color: #00d7ff\">None</span>, <span style=\"color: #00af00; text-decoration-color: #00af00\">128</span>)                 │               <span style=\"color: #00af00; text-decoration-color: #00af00\">0</span> │\n",
       "├──────────────────────────────────────┼─────────────────────────────┼─────────────────┤\n",
       "│ dense_1 (<span style=\"color: #0087ff; text-decoration-color: #0087ff\">Dense</span>)                      │ (<span style=\"color: #00d7ff; text-decoration-color: #00d7ff\">None</span>, <span style=\"color: #00af00; text-decoration-color: #00af00\">64</span>)                  │           <span style=\"color: #00af00; text-decoration-color: #00af00\">8,256</span> │\n",
       "├──────────────────────────────────────┼─────────────────────────────┼─────────────────┤\n",
       "│ dropout_1 (<span style=\"color: #0087ff; text-decoration-color: #0087ff\">Dropout</span>)                  │ (<span style=\"color: #00d7ff; text-decoration-color: #00d7ff\">None</span>, <span style=\"color: #00af00; text-decoration-color: #00af00\">64</span>)                  │               <span style=\"color: #00af00; text-decoration-color: #00af00\">0</span> │\n",
       "├──────────────────────────────────────┼─────────────────────────────┼─────────────────┤\n",
       "│ dense_2 (<span style=\"color: #0087ff; text-decoration-color: #0087ff\">Dense</span>)                      │ (<span style=\"color: #00d7ff; text-decoration-color: #00d7ff\">None</span>, <span style=\"color: #00af00; text-decoration-color: #00af00\">10</span>)                  │             <span style=\"color: #00af00; text-decoration-color: #00af00\">650</span> │\n",
       "└──────────────────────────────────────┴─────────────────────────────┴─────────────────┘\n",
       "</pre>\n"
      ],
      "text/plain": [
       "┏━━━━━━━━━━━━━━━━━━━━━━━━━━━━━━━━━━━━━━┳━━━━━━━━━━━━━━━━━━━━━━━━━━━━━┳━━━━━━━━━━━━━━━━━┓\n",
       "┃\u001b[1m \u001b[0m\u001b[1mLayer (type)                        \u001b[0m\u001b[1m \u001b[0m┃\u001b[1m \u001b[0m\u001b[1mOutput Shape               \u001b[0m\u001b[1m \u001b[0m┃\u001b[1m \u001b[0m\u001b[1m        Param #\u001b[0m\u001b[1m \u001b[0m┃\n",
       "┡━━━━━━━━━━━━━━━━━━━━━━━━━━━━━━━━━━━━━━╇━━━━━━━━━━━━━━━━━━━━━━━━━━━━━╇━━━━━━━━━━━━━━━━━┩\n",
       "│ conv2d (\u001b[38;5;33mConv2D\u001b[0m)                      │ (\u001b[38;5;45mNone\u001b[0m, \u001b[38;5;34m11\u001b[0m, \u001b[38;5;34m98\u001b[0m, \u001b[38;5;34m32\u001b[0m)          │             \u001b[38;5;34m320\u001b[0m │\n",
       "├──────────────────────────────────────┼─────────────────────────────┼─────────────────┤\n",
       "│ max_pooling2d (\u001b[38;5;33mMaxPooling2D\u001b[0m)         │ (\u001b[38;5;45mNone\u001b[0m, \u001b[38;5;34m5\u001b[0m, \u001b[38;5;34m49\u001b[0m, \u001b[38;5;34m32\u001b[0m)           │               \u001b[38;5;34m0\u001b[0m │\n",
       "├──────────────────────────────────────┼─────────────────────────────┼─────────────────┤\n",
       "│ conv2d_1 (\u001b[38;5;33mConv2D\u001b[0m)                    │ (\u001b[38;5;45mNone\u001b[0m, \u001b[38;5;34m3\u001b[0m, \u001b[38;5;34m47\u001b[0m, \u001b[38;5;34m64\u001b[0m)           │          \u001b[38;5;34m18,496\u001b[0m │\n",
       "├──────────────────────────────────────┼─────────────────────────────┼─────────────────┤\n",
       "│ max_pooling2d_1 (\u001b[38;5;33mMaxPooling2D\u001b[0m)       │ (\u001b[38;5;45mNone\u001b[0m, \u001b[38;5;34m1\u001b[0m, \u001b[38;5;34m23\u001b[0m, \u001b[38;5;34m64\u001b[0m)           │               \u001b[38;5;34m0\u001b[0m │\n",
       "├──────────────────────────────────────┼─────────────────────────────┼─────────────────┤\n",
       "│ flatten (\u001b[38;5;33mFlatten\u001b[0m)                    │ (\u001b[38;5;45mNone\u001b[0m, \u001b[38;5;34m1472\u001b[0m)                │               \u001b[38;5;34m0\u001b[0m │\n",
       "├──────────────────────────────────────┼─────────────────────────────┼─────────────────┤\n",
       "│ dense (\u001b[38;5;33mDense\u001b[0m)                        │ (\u001b[38;5;45mNone\u001b[0m, \u001b[38;5;34m128\u001b[0m)                 │         \u001b[38;5;34m188,544\u001b[0m │\n",
       "├──────────────────────────────────────┼─────────────────────────────┼─────────────────┤\n",
       "│ dropout (\u001b[38;5;33mDropout\u001b[0m)                    │ (\u001b[38;5;45mNone\u001b[0m, \u001b[38;5;34m128\u001b[0m)                 │               \u001b[38;5;34m0\u001b[0m │\n",
       "├──────────────────────────────────────┼─────────────────────────────┼─────────────────┤\n",
       "│ dense_1 (\u001b[38;5;33mDense\u001b[0m)                      │ (\u001b[38;5;45mNone\u001b[0m, \u001b[38;5;34m64\u001b[0m)                  │           \u001b[38;5;34m8,256\u001b[0m │\n",
       "├──────────────────────────────────────┼─────────────────────────────┼─────────────────┤\n",
       "│ dropout_1 (\u001b[38;5;33mDropout\u001b[0m)                  │ (\u001b[38;5;45mNone\u001b[0m, \u001b[38;5;34m64\u001b[0m)                  │               \u001b[38;5;34m0\u001b[0m │\n",
       "├──────────────────────────────────────┼─────────────────────────────┼─────────────────┤\n",
       "│ dense_2 (\u001b[38;5;33mDense\u001b[0m)                      │ (\u001b[38;5;45mNone\u001b[0m, \u001b[38;5;34m10\u001b[0m)                  │             \u001b[38;5;34m650\u001b[0m │\n",
       "└──────────────────────────────────────┴─────────────────────────────┴─────────────────┘\n"
      ]
     },
     "metadata": {},
     "output_type": "display_data"
    },
    {
     "data": {
      "text/html": [
       "<pre style=\"white-space:pre;overflow-x:auto;line-height:normal;font-family:Menlo,'DejaVu Sans Mono',consolas,'Courier New',monospace\"><span style=\"font-weight: bold\"> Total params: </span><span style=\"color: #00af00; text-decoration-color: #00af00\">216,266</span> (844.79 KB)\n",
       "</pre>\n"
      ],
      "text/plain": [
       "\u001b[1m Total params: \u001b[0m\u001b[38;5;34m216,266\u001b[0m (844.79 KB)\n"
      ]
     },
     "metadata": {},
     "output_type": "display_data"
    },
    {
     "data": {
      "text/html": [
       "<pre style=\"white-space:pre;overflow-x:auto;line-height:normal;font-family:Menlo,'DejaVu Sans Mono',consolas,'Courier New',monospace\"><span style=\"font-weight: bold\"> Trainable params: </span><span style=\"color: #00af00; text-decoration-color: #00af00\">216,266</span> (844.79 KB)\n",
       "</pre>\n"
      ],
      "text/plain": [
       "\u001b[1m Trainable params: \u001b[0m\u001b[38;5;34m216,266\u001b[0m (844.79 KB)\n"
      ]
     },
     "metadata": {},
     "output_type": "display_data"
    },
    {
     "data": {
      "text/html": [
       "<pre style=\"white-space:pre;overflow-x:auto;line-height:normal;font-family:Menlo,'DejaVu Sans Mono',consolas,'Courier New',monospace\"><span style=\"font-weight: bold\"> Non-trainable params: </span><span style=\"color: #00af00; text-decoration-color: #00af00\">0</span> (0.00 B)\n",
       "</pre>\n"
      ],
      "text/plain": [
       "\u001b[1m Non-trainable params: \u001b[0m\u001b[38;5;34m0\u001b[0m (0.00 B)\n"
      ]
     },
     "metadata": {},
     "output_type": "display_data"
    }
   ],
   "source": [
    "from tensorflow.keras.models import Sequential\n",
    "from tensorflow.keras.layers import Conv2D, MaxPooling2D, Flatten, Dense, Dropout\n",
    "\n",
    "# Build the CNN model\n",
    "model = Sequential([\n",
    "    Conv2D(32, (3, 3), activation='relu', input_shape=(num_mfcc, max_pad_len, 1)),\n",
    "    MaxPooling2D((2, 2)),\n",
    "    Conv2D(64, (3, 3), activation='relu'),\n",
    "    MaxPooling2D((2, 2)),\n",
    "    Flatten(),\n",
    "    Dense(128, activation='relu'),\n",
    "    Dropout(0.5),  # Experiment with higher dropout\n",
    "    Dense(64, activation='relu'),  # Adding another dense layer\n",
    "    Dropout(0.3), \n",
    "    Dense(len(label_encoder.classes_), activation='softmax')\n",
    "])\n",
    "\n",
    "model.compile(optimizer='adam', loss='categorical_crossentropy', metrics=['accuracy'])\n",
    "model.summary()\n"
   ]
  },
  {
   "cell_type": "code",
   "execution_count": 4,
   "id": "45618bff-8bac-45d5-bcef-eea1a96dbe4c",
   "metadata": {},
   "outputs": [
    {
     "name": "stdout",
     "output_type": "stream",
     "text": [
      "Epoch 1/40\n",
      "\u001b[1m67/67\u001b[0m \u001b[32m━━━━━━━━━━━━━━━━━━━━\u001b[0m\u001b[37m\u001b[0m \u001b[1m4s\u001b[0m 21ms/step - accuracy: 0.1001 - loss: 8.0416 - val_accuracy: 0.1361 - val_loss: 2.2924\n",
      "Epoch 2/40\n",
      "\u001b[1m67/67\u001b[0m \u001b[32m━━━━━━━━━━━━━━━━━━━━\u001b[0m\u001b[37m\u001b[0m \u001b[1m2s\u001b[0m 16ms/step - accuracy: 0.1300 - loss: 2.2998 - val_accuracy: 0.1512 - val_loss: 2.2490\n",
      "Epoch 3/40\n",
      "\u001b[1m67/67\u001b[0m \u001b[32m━━━━━━━━━━━━━━━━━━━━\u001b[0m\u001b[37m\u001b[0m \u001b[1m1s\u001b[0m 15ms/step - accuracy: 0.1622 - loss: 2.2375 - val_accuracy: 0.2098 - val_loss: 2.1464\n",
      "Epoch 4/40\n",
      "\u001b[1m67/67\u001b[0m \u001b[32m━━━━━━━━━━━━━━━━━━━━\u001b[0m\u001b[37m\u001b[0m \u001b[1m1s\u001b[0m 16ms/step - accuracy: 0.1665 - loss: 2.2030 - val_accuracy: 0.2457 - val_loss: 2.0499\n",
      "Epoch 5/40\n",
      "\u001b[1m67/67\u001b[0m \u001b[32m━━━━━━━━━━━━━━━━━━━━\u001b[0m\u001b[37m\u001b[0m \u001b[1m1s\u001b[0m 16ms/step - accuracy: 0.2320 - loss: 2.0674 - val_accuracy: 0.3119 - val_loss: 1.9509\n",
      "Epoch 6/40\n",
      "\u001b[1m67/67\u001b[0m \u001b[32m━━━━━━━━━━━━━━━━━━━━\u001b[0m\u001b[37m\u001b[0m \u001b[1m1s\u001b[0m 15ms/step - accuracy: 0.2855 - loss: 1.9580 - val_accuracy: 0.3932 - val_loss: 1.7735\n",
      "Epoch 7/40\n",
      "\u001b[1m67/67\u001b[0m \u001b[32m━━━━━━━━━━━━━━━━━━━━\u001b[0m\u001b[37m\u001b[0m \u001b[1m1s\u001b[0m 16ms/step - accuracy: 0.3308 - loss: 1.8544 - val_accuracy: 0.4102 - val_loss: 1.7013\n",
      "Epoch 8/40\n",
      "\u001b[1m67/67\u001b[0m \u001b[32m━━━━━━━━━━━━━━━━━━━━\u001b[0m\u001b[37m\u001b[0m \u001b[1m1s\u001b[0m 16ms/step - accuracy: 0.3853 - loss: 1.7503 - val_accuracy: 0.4594 - val_loss: 1.5290\n",
      "Epoch 9/40\n",
      "\u001b[1m67/67\u001b[0m \u001b[32m━━━━━━━━━━━━━━━━━━━━\u001b[0m\u001b[37m\u001b[0m \u001b[1m1s\u001b[0m 16ms/step - accuracy: 0.4248 - loss: 1.5614 - val_accuracy: 0.5747 - val_loss: 1.3768\n",
      "Epoch 10/40\n",
      "\u001b[1m67/67\u001b[0m \u001b[32m━━━━━━━━━━━━━━━━━━━━\u001b[0m\u001b[37m\u001b[0m \u001b[1m1s\u001b[0m 16ms/step - accuracy: 0.5000 - loss: 1.4423 - val_accuracy: 0.6068 - val_loss: 1.2923\n",
      "Epoch 11/40\n",
      "\u001b[1m67/67\u001b[0m \u001b[32m━━━━━━━━━━━━━━━━━━━━\u001b[0m\u001b[37m\u001b[0m \u001b[1m1s\u001b[0m 16ms/step - accuracy: 0.5278 - loss: 1.3359 - val_accuracy: 0.6446 - val_loss: 1.1348\n",
      "Epoch 12/40\n",
      "\u001b[1m67/67\u001b[0m \u001b[32m━━━━━━━━━━━━━━━━━━━━\u001b[0m\u001b[37m\u001b[0m \u001b[1m1s\u001b[0m 16ms/step - accuracy: 0.5590 - loss: 1.2033 - val_accuracy: 0.6938 - val_loss: 1.0183\n",
      "Epoch 13/40\n",
      "\u001b[1m67/67\u001b[0m \u001b[32m━━━━━━━━━━━━━━━━━━━━\u001b[0m\u001b[37m\u001b[0m \u001b[1m1s\u001b[0m 16ms/step - accuracy: 0.6404 - loss: 1.0618 - val_accuracy: 0.6938 - val_loss: 0.9750\n",
      "Epoch 14/40\n",
      "\u001b[1m67/67\u001b[0m \u001b[32m━━━━━━━━━━━━━━━━━━━━\u001b[0m\u001b[37m\u001b[0m \u001b[1m1s\u001b[0m 16ms/step - accuracy: 0.6762 - loss: 0.9711 - val_accuracy: 0.7221 - val_loss: 0.8779\n",
      "Epoch 15/40\n",
      "\u001b[1m67/67\u001b[0m \u001b[32m━━━━━━━━━━━━━━━━━━━━\u001b[0m\u001b[37m\u001b[0m \u001b[1m1s\u001b[0m 16ms/step - accuracy: 0.6930 - loss: 0.9154 - val_accuracy: 0.7637 - val_loss: 0.7505\n",
      "Epoch 16/40\n",
      "\u001b[1m67/67\u001b[0m \u001b[32m━━━━━━━━━━━━━━━━━━━━\u001b[0m\u001b[37m\u001b[0m \u001b[1m1s\u001b[0m 16ms/step - accuracy: 0.7228 - loss: 0.7798 - val_accuracy: 0.8034 - val_loss: 0.6968\n",
      "Epoch 17/40\n",
      "\u001b[1m67/67\u001b[0m \u001b[32m━━━━━━━━━━━━━━━━━━━━\u001b[0m\u001b[37m\u001b[0m \u001b[1m1s\u001b[0m 17ms/step - accuracy: 0.7585 - loss: 0.7085 - val_accuracy: 0.7694 - val_loss: 0.6886\n",
      "Epoch 18/40\n",
      "\u001b[1m67/67\u001b[0m \u001b[32m━━━━━━━━━━━━━━━━━━━━\u001b[0m\u001b[37m\u001b[0m \u001b[1m1s\u001b[0m 17ms/step - accuracy: 0.7398 - loss: 0.7531 - val_accuracy: 0.7826 - val_loss: 0.6513\n",
      "Epoch 19/40\n",
      "\u001b[1m67/67\u001b[0m \u001b[32m━━━━━━━━━━━━━━━━━━━━\u001b[0m\u001b[37m\u001b[0m \u001b[1m1s\u001b[0m 18ms/step - accuracy: 0.7657 - loss: 0.6961 - val_accuracy: 0.8034 - val_loss: 0.6089\n",
      "Epoch 20/40\n",
      "\u001b[1m67/67\u001b[0m \u001b[32m━━━━━━━━━━━━━━━━━━━━\u001b[0m\u001b[37m\u001b[0m \u001b[1m1s\u001b[0m 16ms/step - accuracy: 0.7839 - loss: 0.6097 - val_accuracy: 0.7940 - val_loss: 0.6120\n",
      "Epoch 21/40\n",
      "\u001b[1m67/67\u001b[0m \u001b[32m━━━━━━━━━━━━━━━━━━━━\u001b[0m\u001b[37m\u001b[0m \u001b[1m1s\u001b[0m 16ms/step - accuracy: 0.8029 - loss: 0.5659 - val_accuracy: 0.8412 - val_loss: 0.5336\n",
      "Epoch 22/40\n",
      "\u001b[1m67/67\u001b[0m \u001b[32m━━━━━━━━━━━━━━━━━━━━\u001b[0m\u001b[37m\u001b[0m \u001b[1m1s\u001b[0m 16ms/step - accuracy: 0.8213 - loss: 0.5357 - val_accuracy: 0.8393 - val_loss: 0.5117\n",
      "Epoch 23/40\n",
      "\u001b[1m67/67\u001b[0m \u001b[32m━━━━━━━━━━━━━━━━━━━━\u001b[0m\u001b[37m\u001b[0m \u001b[1m1s\u001b[0m 17ms/step - accuracy: 0.8146 - loss: 0.4970 - val_accuracy: 0.8507 - val_loss: 0.5083\n",
      "Epoch 24/40\n",
      "\u001b[1m67/67\u001b[0m \u001b[32m━━━━━━━━━━━━━━━━━━━━\u001b[0m\u001b[37m\u001b[0m \u001b[1m1s\u001b[0m 17ms/step - accuracy: 0.8366 - loss: 0.4592 - val_accuracy: 0.8280 - val_loss: 0.5291\n",
      "Epoch 25/40\n",
      "\u001b[1m67/67\u001b[0m \u001b[32m━━━━━━━━━━━━━━━━━━━━\u001b[0m\u001b[37m\u001b[0m \u001b[1m1s\u001b[0m 17ms/step - accuracy: 0.8365 - loss: 0.4317 - val_accuracy: 0.8526 - val_loss: 0.4929\n",
      "Epoch 26/40\n",
      "\u001b[1m67/67\u001b[0m \u001b[32m━━━━━━━━━━━━━━━━━━━━\u001b[0m\u001b[37m\u001b[0m \u001b[1m1s\u001b[0m 17ms/step - accuracy: 0.8677 - loss: 0.3878 - val_accuracy: 0.8374 - val_loss: 0.5402\n",
      "Epoch 27/40\n",
      "\u001b[1m67/67\u001b[0m \u001b[32m━━━━━━━━━━━━━━━━━━━━\u001b[0m\u001b[37m\u001b[0m \u001b[1m1s\u001b[0m 16ms/step - accuracy: 0.8633 - loss: 0.3874 - val_accuracy: 0.8374 - val_loss: 0.5199\n",
      "Epoch 28/40\n",
      "\u001b[1m67/67\u001b[0m \u001b[32m━━━━━━━━━━━━━━━━━━━━\u001b[0m\u001b[37m\u001b[0m \u001b[1m1s\u001b[0m 17ms/step - accuracy: 0.8570 - loss: 0.4034 - val_accuracy: 0.8507 - val_loss: 0.4935\n",
      "Epoch 29/40\n",
      "\u001b[1m67/67\u001b[0m \u001b[32m━━━━━━━━━━━━━━━━━━━━\u001b[0m\u001b[37m\u001b[0m \u001b[1m1s\u001b[0m 16ms/step - accuracy: 0.8769 - loss: 0.3618 - val_accuracy: 0.8620 - val_loss: 0.4680\n",
      "Epoch 30/40\n",
      "\u001b[1m67/67\u001b[0m \u001b[32m━━━━━━━━━━━━━━━━━━━━\u001b[0m\u001b[37m\u001b[0m \u001b[1m1s\u001b[0m 17ms/step - accuracy: 0.8811 - loss: 0.3363 - val_accuracy: 0.8639 - val_loss: 0.4608\n",
      "Epoch 31/40\n",
      "\u001b[1m67/67\u001b[0m \u001b[32m━━━━━━━━━━━━━━━━━━━━\u001b[0m\u001b[37m\u001b[0m \u001b[1m1s\u001b[0m 17ms/step - accuracy: 0.8843 - loss: 0.3261 - val_accuracy: 0.8620 - val_loss: 0.4496\n",
      "Epoch 32/40\n",
      "\u001b[1m67/67\u001b[0m \u001b[32m━━━━━━━━━━━━━━━━━━━━\u001b[0m\u001b[37m\u001b[0m \u001b[1m1s\u001b[0m 16ms/step - accuracy: 0.8734 - loss: 0.3428 - val_accuracy: 0.8658 - val_loss: 0.4472\n",
      "Epoch 33/40\n",
      "\u001b[1m67/67\u001b[0m \u001b[32m━━━━━━━━━━━━━━━━━━━━\u001b[0m\u001b[37m\u001b[0m \u001b[1m1s\u001b[0m 17ms/step - accuracy: 0.8798 - loss: 0.3186 - val_accuracy: 0.8507 - val_loss: 0.4820\n",
      "Epoch 34/40\n",
      "\u001b[1m67/67\u001b[0m \u001b[32m━━━━━━━━━━━━━━━━━━━━\u001b[0m\u001b[37m\u001b[0m \u001b[1m1s\u001b[0m 18ms/step - accuracy: 0.9032 - loss: 0.2765 - val_accuracy: 0.8450 - val_loss: 0.4875\n",
      "Epoch 35/40\n",
      "\u001b[1m67/67\u001b[0m \u001b[32m━━━━━━━━━━━━━━━━━━━━\u001b[0m\u001b[37m\u001b[0m \u001b[1m1s\u001b[0m 16ms/step - accuracy: 0.9061 - loss: 0.2797 - val_accuracy: 0.8715 - val_loss: 0.4320\n",
      "Epoch 36/40\n",
      "\u001b[1m67/67\u001b[0m \u001b[32m━━━━━━━━━━━━━━━━━━━━\u001b[0m\u001b[37m\u001b[0m \u001b[1m1s\u001b[0m 19ms/step - accuracy: 0.8833 - loss: 0.3242 - val_accuracy: 0.8752 - val_loss: 0.3841\n",
      "Epoch 37/40\n",
      "\u001b[1m67/67\u001b[0m \u001b[32m━━━━━━━━━━━━━━━━━━━━\u001b[0m\u001b[37m\u001b[0m \u001b[1m1s\u001b[0m 17ms/step - accuracy: 0.8907 - loss: 0.3007 - val_accuracy: 0.8677 - val_loss: 0.4553\n",
      "Epoch 38/40\n",
      "\u001b[1m67/67\u001b[0m \u001b[32m━━━━━━━━━━━━━━━━━━━━\u001b[0m\u001b[37m\u001b[0m \u001b[1m1s\u001b[0m 17ms/step - accuracy: 0.8752 - loss: 0.3444 - val_accuracy: 0.8658 - val_loss: 0.4884\n",
      "Epoch 39/40\n",
      "\u001b[1m67/67\u001b[0m \u001b[32m━━━━━━━━━━━━━━━━━━━━\u001b[0m\u001b[37m\u001b[0m \u001b[1m1s\u001b[0m 17ms/step - accuracy: 0.8874 - loss: 0.3337 - val_accuracy: 0.8450 - val_loss: 0.5310\n",
      "Epoch 40/40\n",
      "\u001b[1m67/67\u001b[0m \u001b[32m━━━━━━━━━━━━━━━━━━━━\u001b[0m\u001b[37m\u001b[0m \u001b[1m1s\u001b[0m 17ms/step - accuracy: 0.8787 - loss: 0.3729 - val_accuracy: 0.8582 - val_loss: 0.4986\n"
     ]
    }
   ],
   "source": [
    "# Train the model\n",
    "history = model.fit(X_train, y_train, epochs=40, batch_size=32, validation_data=(X_test, y_test))"
   ]
  },
  {
   "cell_type": "code",
   "execution_count": 5,
   "id": "f7d272e7-09e0-41c2-8c2e-84e3e9fa754d",
   "metadata": {},
   "outputs": [
    {
     "name": "stderr",
     "output_type": "stream",
     "text": [
      "WARNING:absl:You are saving your model as an HDF5 file via `model.save()` or `keras.saving.save_model(model)`. This file format is considered legacy. We recommend using instead the native Keras format, e.g. `model.save('my_model.keras')` or `keras.saving.save_model(model, 'my_model.keras')`. \n"
     ]
    },
    {
     "name": "stdout",
     "output_type": "stream",
     "text": [
      "Model saved as audio_cnn_model3.h5\n"
     ]
    }
   ],
   "source": [
    "# Save the model as an HDF5 file\n",
    "model.save(\"audio_cnn_model3.h5\")\n",
    "print(\"Model saved as audio_cnn_model3.h5\")"
   ]
  },
  {
   "cell_type": "code",
   "execution_count": 6,
   "id": "b1d9421e-0ca5-4bf5-a98b-570965364337",
   "metadata": {},
   "outputs": [
    {
     "name": "stdout",
     "output_type": "stream",
     "text": [
      "Requirement already satisfied: sounddevice in c:\\users\\asus\\pycharmprojects\\voicemodel\\venv\\lib\\site-packages (0.5.1)\n",
      "Requirement already satisfied: librosa in c:\\users\\asus\\pycharmprojects\\voicemodel\\venv\\lib\\site-packages (0.10.2.post1)\n",
      "Requirement already satisfied: CFFI>=1.0 in c:\\users\\asus\\pycharmprojects\\voicemodel\\venv\\lib\\site-packages (from sounddevice) (1.17.1)\n",
      "Requirement already satisfied: audioread>=2.1.9 in c:\\users\\asus\\pycharmprojects\\voicemodel\\venv\\lib\\site-packages (from librosa) (3.0.1)\n",
      "Requirement already satisfied: numpy!=1.22.0,!=1.22.1,!=1.22.2,>=1.20.3 in c:\\users\\asus\\pycharmprojects\\voicemodel\\venv\\lib\\site-packages (from librosa) (2.0.2)\n",
      "Requirement already satisfied: scipy>=1.2.0 in c:\\users\\asus\\pycharmprojects\\voicemodel\\venv\\lib\\site-packages (from librosa) (1.14.1)\n",
      "Requirement already satisfied: scikit-learn>=0.20.0 in c:\\users\\asus\\pycharmprojects\\voicemodel\\venv\\lib\\site-packages (from librosa) (1.5.2)\n",
      "Requirement already satisfied: joblib>=0.14 in c:\\users\\asus\\pycharmprojects\\voicemodel\\venv\\lib\\site-packages (from librosa) (1.4.2)\n",
      "Requirement already satisfied: decorator>=4.3.0 in c:\\users\\asus\\pycharmprojects\\voicemodel\\venv\\lib\\site-packages (from librosa) (5.1.1)\n",
      "Requirement already satisfied: numba>=0.51.0 in c:\\users\\asus\\pycharmprojects\\voicemodel\\venv\\lib\\site-packages (from librosa) (0.60.0)\n",
      "Requirement already satisfied: soundfile>=0.12.1 in c:\\users\\asus\\pycharmprojects\\voicemodel\\venv\\lib\\site-packages (from librosa) (0.12.1)\n",
      "Requirement already satisfied: pooch>=1.1 in c:\\users\\asus\\pycharmprojects\\voicemodel\\venv\\lib\\site-packages (from librosa) (1.8.2)\n",
      "Requirement already satisfied: soxr>=0.3.2 in c:\\users\\asus\\pycharmprojects\\voicemodel\\venv\\lib\\site-packages (from librosa) (0.5.0.post1)\n",
      "Requirement already satisfied: typing-extensions>=4.1.1 in c:\\users\\asus\\pycharmprojects\\voicemodel\\venv\\lib\\site-packages (from librosa) (4.12.2)\n",
      "Requirement already satisfied: lazy-loader>=0.1 in c:\\users\\asus\\pycharmprojects\\voicemodel\\venv\\lib\\site-packages (from librosa) (0.4)\n",
      "Requirement already satisfied: msgpack>=1.0 in c:\\users\\asus\\pycharmprojects\\voicemodel\\venv\\lib\\site-packages (from librosa) (1.1.0)\n",
      "Requirement already satisfied: pycparser in c:\\users\\asus\\pycharmprojects\\voicemodel\\venv\\lib\\site-packages (from CFFI>=1.0->sounddevice) (2.22)\n",
      "Requirement already satisfied: packaging in c:\\users\\asus\\pycharmprojects\\voicemodel\\venv\\lib\\site-packages (from lazy-loader>=0.1->librosa) (24.1)\n",
      "Requirement already satisfied: llvmlite<0.44,>=0.43.0dev0 in c:\\users\\asus\\pycharmprojects\\voicemodel\\venv\\lib\\site-packages (from numba>=0.51.0->librosa) (0.43.0)\n",
      "Requirement already satisfied: platformdirs>=2.5.0 in c:\\users\\asus\\pycharmprojects\\voicemodel\\venv\\lib\\site-packages (from pooch>=1.1->librosa) (4.3.6)\n",
      "Requirement already satisfied: requests>=2.19.0 in c:\\users\\asus\\pycharmprojects\\voicemodel\\venv\\lib\\site-packages (from pooch>=1.1->librosa) (2.32.3)\n",
      "Requirement already satisfied: threadpoolctl>=3.1.0 in c:\\users\\asus\\pycharmprojects\\voicemodel\\venv\\lib\\site-packages (from scikit-learn>=0.20.0->librosa) (3.5.0)\n",
      "Requirement already satisfied: charset-normalizer<4,>=2 in c:\\users\\asus\\pycharmprojects\\voicemodel\\venv\\lib\\site-packages (from requests>=2.19.0->pooch>=1.1->librosa) (3.4.0)\n",
      "Requirement already satisfied: idna<4,>=2.5 in c:\\users\\asus\\pycharmprojects\\voicemodel\\venv\\lib\\site-packages (from requests>=2.19.0->pooch>=1.1->librosa) (3.10)\n",
      "Requirement already satisfied: urllib3<3,>=1.21.1 in c:\\users\\asus\\pycharmprojects\\voicemodel\\venv\\lib\\site-packages (from requests>=2.19.0->pooch>=1.1->librosa) (2.2.3)\n",
      "Requirement already satisfied: certifi>=2017.4.17 in c:\\users\\asus\\pycharmprojects\\voicemodel\\venv\\lib\\site-packages (from requests>=2.19.0->pooch>=1.1->librosa) (2024.8.30)\n"
     ]
    }
   ],
   "source": [
    "!pip install sounddevice librosa"
   ]
  },
  {
   "cell_type": "code",
   "execution_count": 8,
   "id": "f0547710-8b20-47b1-b43f-c257ccc8b082",
   "metadata": {},
   "outputs": [
    {
     "name": "stdout",
     "output_type": "stream",
     "text": [
      "Recording test audio...\n",
      "Recording complete. Playing back audio...\n"
     ]
    }
   ],
   "source": [
    "import sounddevice as sd\n",
    "import numpy as np\n",
    "\n",
    "# Test recording and playback\n",
    "sampling_rate = 22050  # Hz\n",
    "duration = 2  # seconds\n",
    "\n",
    "print(\"Recording test audio...\")\n",
    "audio = sd.rec(int(duration * sampling_rate), samplerate=sampling_rate, channels=1, dtype='float32')\n",
    "sd.wait()  # Wait until recording is complete\n",
    "print(\"Recording complete. Playing back audio...\")\n",
    "\n",
    "# Play back the recorded audio\n",
    "sd.play(audio, samplerate=sampling_rate)\n",
    "sd.wait()  # Wait until playback is complete"
   ]
  },
  {
   "cell_type": "code",
   "execution_count": 9,
   "id": "52abb156-0b6d-46f7-bd25-3f39e907e96a",
   "metadata": {},
   "outputs": [],
   "source": [
    "import librosa\n",
    "\n",
    "def extract_mfcc_features(audio, sampling_rate, n_mfcc=13, max_pad_len=100):\n",
    "    # Extract MFCC features from the recorded audio\n",
    "    mfccs = librosa.feature.mfcc(y=audio, sr=sampling_rate, n_mfcc=n_mfcc)\n",
    "    \n",
    "    # Pad or truncate to ensure consistent shape\n",
    "    if mfccs.shape[1] < max_pad_len:\n",
    "        pad_width = max_pad_len - mfccs.shape[1]\n",
    "        mfccs = np.pad(mfccs, pad_width=((0, 0), (0, pad_width)), mode='constant')\n",
    "    else:\n",
    "        mfccs = mfccs[:, :max_pad_len]\n",
    "        \n",
    "    # Reshape for model input (1, n_mfcc, max_pad_len, 1)\n",
    "    mfccs = mfccs.reshape(1, n_mfcc, max_pad_len, 1)\n",
    "    return mfccs"
   ]
  },
  {
   "cell_type": "code",
   "execution_count": 10,
   "id": "ff0375b6-7634-49af-94e5-222f9a908ddd",
   "metadata": {},
   "outputs": [
    {
     "name": "stdout",
     "output_type": "stream",
     "text": [
      "['.idea', '.ipynb_checkpoints', 'a.ipynb', 'audio_cnn_model.h5', 'audio_cnn_model1.h5', 'audio_cnn_model2.h5', 'audio_cnn_model3.h5', 'convert M4A to WAV.py', 'edc.py', 'er.py', 'erds.py', 'ewsd.py', 'extraction.py', 'extraction_new.py', 'features_with_labels.csv', 'feature_extraction.py', 'feature_extraction2.py', 'feature_extration_working.py', 'label_encoder.pkl', 'main.py', 'normalize.py', 'original_aug.py', 'preprocess.py', 'train.ipynb', 'train_new.ipynb', 'Untitled.ipynb', 'Untitled1.ipynb', 'Untitled2.ipynb', 'Untitled3.ipynb', 'Untitled4.ipynb', 'Untitled5.ipynb', 'Untitled6.ipynb', 'Untitled7.ipynb', 'venv', 'voice_recognition_cnn.h5', 'voice_recognition_cnn.keras', 'w.py', 'x.py', 'x1.py']\n"
     ]
    }
   ],
   "source": [
    "import os\n",
    "print(os.listdir())  # This will list all files in the current directory"
   ]
  },
  {
   "cell_type": "code",
   "execution_count": 11,
   "id": "830f7f11-b04a-464c-a18b-ce8b112f39b3",
   "metadata": {},
   "outputs": [],
   "source": [
    "import sounddevice as sd\n",
    "import numpy as np\n",
    "\n",
    "# Settings\n",
    "sampling_rate = 22050  # Match this with the model’s training sampling rate\n",
    "duration = 2  # Duration for recording in seconds\n",
    "\n",
    "def record_audio(duration=2, fs=22050):\n",
    "    print(\"Recording...\")\n",
    "    audio = sd.rec(int(duration * fs), samplerate=fs, channels=1, dtype='float32')\n",
    "    sd.wait()  # Wait until recording is complete\n",
    "    print(\"Recording complete.\")\n",
    "    return audio.flatten()"
   ]
  },
  {
   "cell_type": "code",
   "execution_count": 12,
   "id": "a593bf52-1248-4b1e-ab6e-e5b6ececaf47",
   "metadata": {},
   "outputs": [],
   "source": [
    "import sounddevice as sd\n",
    "import numpy as np\n",
    "\n",
    "# Settings\n",
    "sampling_rate = 22050  # Match this with the model’s training sampling rate\n",
    "duration = 2  # Duration for recording in seconds\n",
    "\n",
    "def record_audio(duration=2, fs=22050):\n",
    "    print(\"Recording...\")\n",
    "    audio = sd.rec(int(duration * fs), samplerate=fs, channels=1, dtype='float32')\n",
    "    sd.wait()  # Wait until recording is complete\n",
    "    print(\"Recording complete.\")\n",
    "    return audio.flatten()"
   ]
  },
  {
   "cell_type": "code",
   "execution_count": 14,
   "id": "0c1e96ad-4be6-4121-91df-bd6072e04e65",
   "metadata": {},
   "outputs": [
    {
     "name": "stdout",
     "output_type": "stream",
     "text": [
      "Recording test audio...\n",
      "Recording complete. Playing back audio...\n"
     ]
    }
   ],
   "source": [
    "import sounddevice as sd\n",
    "import numpy as np\n",
    "\n",
    "# Test recording and playback\n",
    "sampling_rate = 22050  # Hz\n",
    "duration = 2  # seconds\n",
    "\n",
    "print(\"Recording test audio...\")\n",
    "audio = sd.rec(int(duration * sampling_rate), samplerate=sampling_rate, channels=1, dtype='float32')\n",
    "sd.wait()  # Wait until recording is complete\n",
    "print(\"Recording complete. Playing back audio...\")\n",
    "\n",
    "# Play back the recorded audio\n",
    "sd.play(audio, samplerate=sampling_rate)\n",
    "sd.wait()  # Wait until playback is complete"
   ]
  },
  {
   "cell_type": "code",
   "execution_count": 15,
   "id": "111b3420-b8cb-42a4-8969-cc86d72cb5d2",
   "metadata": {},
   "outputs": [],
   "source": [
    "import librosa\n",
    "\n",
    "def extract_mfcc_features(audio, sampling_rate, n_mfcc=13, max_pad_len=100):\n",
    "    # Extract MFCC features from the recorded audio\n",
    "    mfccs = librosa.feature.mfcc(y=audio, sr=sampling_rate, n_mfcc=n_mfcc)\n",
    "    \n",
    "    # Pad or truncate to ensure consistent shape\n",
    "    if mfccs.shape[1] < max_pad_len:\n",
    "        pad_width = max_pad_len - mfccs.shape[1]\n",
    "        mfccs = np.pad(mfccs, pad_width=((0, 0), (0, pad_width)), mode='constant')\n",
    "    else:\n",
    "        mfccs = mfccs[:, :max_pad_len]\n",
    "        \n",
    "    # Reshape for model input (1, n_mfcc, max_pad_len, 1)\n",
    "    mfccs = mfccs.reshape(1, n_mfcc, max_pad_len, 1)\n",
    "    return mfccs"
   ]
  },
  {
   "cell_type": "code",
   "execution_count": 16,
   "id": "a95f057c-c576-4dd7-a304-08bb45966c11",
   "metadata": {},
   "outputs": [
    {
     "name": "stderr",
     "output_type": "stream",
     "text": [
      "WARNING:absl:Compiled the loaded model, but the compiled metrics have yet to be built. `model.compile_metrics` will be empty until you train or evaluate the model.\n"
     ]
    },
    {
     "name": "stdout",
     "output_type": "stream",
     "text": [
      "Model loaded successfully.\n"
     ]
    }
   ],
   "source": [
    "from tensorflow.keras.models import load_model\n",
    "\n",
    "# Load the trained model\n",
    "model = load_model(\"audio_cnn_model3.h5\")\n",
    "print(\"Model loaded successfully.\")"
   ]
  },
  {
   "cell_type": "code",
   "execution_count": 17,
   "id": "5b1c7471-0fd9-4263-8f16-4c532cc9a58c",
   "metadata": {},
   "outputs": [],
   "source": [
    "from sklearn.preprocessing import LabelEncoder\n",
    "\n",
    "# Load label encoder or define classes if needed\n",
    "classes = ['Achchi', 'Amma', 'Ayya', 'kala', 'Mala','Malli','Tharuwa','Thaththa','Wathura','Yathura']  # Replace with actual class labels\n",
    "label_encoder = LabelEncoder()\n",
    "label_encoder.fit(classes)  # This should match the labels used in training\n",
    "\n",
    "def predict_audio():\n",
    "    # Step 1: Record audio\n",
    "    audio = record_audio(duration, sampling_rate)\n",
    "    \n",
    "    # Step 2: Extract MFCC features\n",
    "    mfcc_features = extract_mfcc_features(audio, sampling_rate)\n",
    "    \n",
    "    # Step 3: Make a prediction\n",
    "    prediction = model.predict(mfcc_features)\n",
    "    predicted_class = np.argmax(prediction)\n",
    "    predicted_label = label_encoder.inverse_transform([predicted_class])[0]\n",
    "    \n",
    "    # Step 4: Get the confidence score (percentage match)\n",
    "    confidence = prediction[0][predicted_class] * 100\n",
    "    \n",
    "    # Step 5: Display the result\n",
    "    print(f\"Predicted word: {predicted_label}\")\n",
    "    print(f\"Confidence: {confidence:.2f}%\")"
   ]
  },
  {
   "cell_type": "code",
   "execution_count": 18,
   "id": "b2074b51-8023-4a15-ae48-d92e3580ed71",
   "metadata": {},
   "outputs": [],
   "source": [
    "def predict_audio():\n",
    "    \"\"\"\n",
    "    Records audio, extracts features, makes a prediction, and displays the result.\n",
    "    \"\"\"\n",
    "    # Parameters\n",
    "    duration = 3  # Duration of audio in seconds\n",
    "    sampling_rate = 16000  # Sampling rate (common for speech processing)\n",
    "\n",
    "    # Step 1: Record the audio\n",
    "    audio = record_audio(duration, sampling_rate)\n",
    "\n",
    "    # Step 2: Extract MFCC features from the recorded audio\n",
    "    mfcc_features = extract_mfcc_features(audio, sampling_rate)\n",
    "\n",
    "    # Step 3: Make the prediction using the trained model\n",
    "    prediction = model.predict(mfcc_features)  # Model should be a trained classifier (e.g., CNN)\n",
    "    \n",
    "    # Debugging output\n",
    "    print(\"Raw prediction probabilities:\", prediction)\n",
    "    \n",
    "    predicted_class = np.argmax(prediction)  # Get the index of the highest probability\n",
    "    print(f\"Predicted class index: {predicted_class}\")\n",
    "\n",
    "    # Step 4: Decode the predicted class index to the actual class label\n",
    "    predicted_label = label_encoder.inverse_transform([predicted_class])[0]  # Get the label\n",
    "    print(f\"Predicted label: {predicted_label}\")\n",
    "\n",
    "    # Step 5: Get the confidence score\n",
    "    confidence = prediction[0][predicted_class] * 100\n",
    "\n",
    "    # Step 6: Display the result\n",
    "    print(f\"Predicted word: {predicted_label}\")\n",
    "    print(f\"Confidence: {confidence:.2f}%\")\n"
   ]
  },
  {
   "cell_type": "code",
   "execution_count": 22,
   "id": "4e135064-fac1-4d2b-b12b-af5348b999d0",
   "metadata": {},
   "outputs": [
    {
     "name": "stdout",
     "output_type": "stream",
     "text": [
      "Recording...\n",
      "Recording complete.\n",
      "\u001b[1m1/1\u001b[0m \u001b[32m━━━━━━━━━━━━━━━━━━━━\u001b[0m\u001b[37m\u001b[0m \u001b[1m0s\u001b[0m 21ms/step\n",
      "Raw prediction probabilities: [[0.21118894 0.02935481 0.19065517 0.17495774 0.02377539 0.14177953\n",
      "  0.04144973 0.07008296 0.08294616 0.03380956]]\n",
      "Predicted class index: 0\n",
      "Predicted label: Achchi\n",
      "Predicted word: Achchi\n",
      "Confidence: 21.12%\n"
     ]
    }
   ],
   "source": [
    "# Run real-time prediction\n",
    "predict_audio()\n"
   ]
  },
  {
   "cell_type": "code",
   "execution_count": 25,
   "id": "b97c50ae-bead-45eb-a7ca-b6a502c73af0",
   "metadata": {},
   "outputs": [
    {
     "data": {
      "text/html": [
       "<a href='audio_cnn_model3.h5' target='_blank'>audio_cnn_model3.h5</a><br>"
      ],
      "text/plain": [
       "C:\\Users\\ASUS\\PycharmProjects\\voicemodel\\audio_cnn_model3.h5"
      ]
     },
     "execution_count": 25,
     "metadata": {},
     "output_type": "execute_result"
    }
   ],
   "source": [
    "from IPython.display import FileLink\n",
    "\n",
    "# Create a downloadable link for the saved model file\n",
    "FileLink(r'audio_cnn_model3.h5')"
   ]
  },
  {
   "cell_type": "code",
   "execution_count": 26,
   "id": "8c6769ec-3bb5-4e36-b523-9d3029a5677b",
   "metadata": {},
   "outputs": [],
   "source": [
    "from tensorflow.keras.callbacks import Callback\n",
    "\n",
    "class TestAccuracyCallback(Callback):\n",
    "    def __init__(self, test_data):\n",
    "        super(TestAccuracyCallback, self).__init__()\n",
    "        self.X_test, self.y_test = test_data\n",
    "        self.test_accuracy = []\n",
    "\n",
    "    def on_epoch_end(self, epoch, logs=None):\n",
    "        # Evaluate on the test data at the end of each epoch\n",
    "        test_loss, test_acc = self.model.evaluate(self.X_test, self.y_test, verbose=0)\n",
    "        self.test_accuracy.append(test_acc)\n",
    "        print(f\"Epoch {epoch + 1}: Test Accuracy = {test_acc}\")\n",
    "\n",
    "# Create an instance of the callback with your test data\n",
    "test_accuracy_callback = TestAccuracyCallback((X_test, y_test))\n"
   ]
  },
  {
   "cell_type": "code",
   "execution_count": 27,
   "id": "c6482ac1-0985-4e37-bf12-b3632e4d640e",
   "metadata": {},
   "outputs": [
    {
     "name": "stdout",
     "output_type": "stream",
     "text": [
      "Training Accuracy: 0.9763705134391785\n"
     ]
    }
   ],
   "source": [
    "train_loss, train_accuracy = model.evaluate(X_train, y_train, verbose=0)\n",
    "print(f\"Training Accuracy: {train_accuracy}\")\n"
   ]
  },
  {
   "cell_type": "code",
   "execution_count": 30,
   "id": "11efdd61-ecf7-4b97-b767-7dd717e46af3",
   "metadata": {},
   "outputs": [
    {
     "name": "stdout",
     "output_type": "stream",
     "text": [
      "Collecting matplotlib\n",
      "  Using cached matplotlib-3.9.2-cp312-cp312-win_amd64.whl.metadata (11 kB)\n",
      "Collecting contourpy>=1.0.1 (from matplotlib)\n",
      "  Downloading contourpy-1.3.1-cp312-cp312-win_amd64.whl.metadata (5.4 kB)\n",
      "Collecting cycler>=0.10 (from matplotlib)\n",
      "  Using cached cycler-0.12.1-py3-none-any.whl.metadata (3.8 kB)\n",
      "Collecting fonttools>=4.22.0 (from matplotlib)\n",
      "  Downloading fonttools-4.55.0-cp312-cp312-win_amd64.whl.metadata (167 kB)\n",
      "Collecting kiwisolver>=1.3.1 (from matplotlib)\n",
      "  Using cached kiwisolver-1.4.7-cp312-cp312-win_amd64.whl.metadata (6.4 kB)\n",
      "Requirement already satisfied: numpy>=1.23 in c:\\users\\asus\\pycharmprojects\\voicemodel\\venv\\lib\\site-packages (from matplotlib) (2.0.2)\n",
      "Requirement already satisfied: packaging>=20.0 in c:\\users\\asus\\pycharmprojects\\voicemodel\\venv\\lib\\site-packages (from matplotlib) (24.1)\n",
      "Collecting pillow>=8 (from matplotlib)\n",
      "  Using cached pillow-11.0.0-cp312-cp312-win_amd64.whl.metadata (9.3 kB)\n",
      "Collecting pyparsing>=2.3.1 (from matplotlib)\n",
      "  Using cached pyparsing-3.2.0-py3-none-any.whl.metadata (5.0 kB)\n",
      "Requirement already satisfied: python-dateutil>=2.7 in c:\\users\\asus\\pycharmprojects\\voicemodel\\venv\\lib\\site-packages (from matplotlib) (2.9.0.post0)\n",
      "Requirement already satisfied: six>=1.5 in c:\\users\\asus\\pycharmprojects\\voicemodel\\venv\\lib\\site-packages (from python-dateutil>=2.7->matplotlib) (1.16.0)\n",
      "Using cached matplotlib-3.9.2-cp312-cp312-win_amd64.whl (7.8 MB)\n",
      "Downloading contourpy-1.3.1-cp312-cp312-win_amd64.whl (220 kB)\n",
      "Using cached cycler-0.12.1-py3-none-any.whl (8.3 kB)\n",
      "Downloading fonttools-4.55.0-cp312-cp312-win_amd64.whl (2.2 MB)\n",
      "   ---------------------------------------- 0.0/2.2 MB ? eta -:--:--\n",
      "   ---------------------------------------- 0.0/2.2 MB ? eta -:--:--\n",
      "   ---- ----------------------------------- 0.3/2.2 MB ? eta -:--:--\n",
      "   ---- ----------------------------------- 0.3/2.2 MB ? eta -:--:--\n",
      "   --------- ------------------------------ 0.5/2.2 MB 578.7 kB/s eta 0:00:03\n",
      "   --------- ------------------------------ 0.5/2.2 MB 578.7 kB/s eta 0:00:03\n",
      "   -------------- ------------------------- 0.8/2.2 MB 657.8 kB/s eta 0:00:03\n",
      "   -------------- ------------------------- 0.8/2.2 MB 657.8 kB/s eta 0:00:03\n",
      "   ------------------- -------------------- 1.0/2.2 MB 671.0 kB/s eta 0:00:02\n",
      "   ------------------- -------------------- 1.0/2.2 MB 671.0 kB/s eta 0:00:02\n",
      "   ------------------- -------------------- 1.0/2.2 MB 671.0 kB/s eta 0:00:02\n",
      "   ----------------------- ---------------- 1.3/2.2 MB 532.5 kB/s eta 0:00:02\n",
      "   ----------------------- ---------------- 1.3/2.2 MB 532.5 kB/s eta 0:00:02\n",
      "   ----------------------- ---------------- 1.3/2.2 MB 532.5 kB/s eta 0:00:02\n",
      "   ----------------------- ---------------- 1.3/2.2 MB 532.5 kB/s eta 0:00:02\n",
      "   ----------------------- ---------------- 1.3/2.2 MB 532.5 kB/s eta 0:00:02\n",
      "   ---------------------------- ----------- 1.6/2.2 MB 460.9 kB/s eta 0:00:02\n",
      "   ---------------------------- ----------- 1.6/2.2 MB 460.9 kB/s eta 0:00:02\n",
      "   ---------------------------- ----------- 1.6/2.2 MB 460.9 kB/s eta 0:00:02\n",
      "   ---------------------------- ----------- 1.6/2.2 MB 460.9 kB/s eta 0:00:02\n",
      "   --------------------------------- ------ 1.8/2.2 MB 421.2 kB/s eta 0:00:01\n",
      "   --------------------------------- ------ 1.8/2.2 MB 421.2 kB/s eta 0:00:01\n",
      "   --------------------------------- ------ 1.8/2.2 MB 421.2 kB/s eta 0:00:01\n",
      "   --------------------------------- ------ 1.8/2.2 MB 421.2 kB/s eta 0:00:01\n",
      "   -------------------------------------- - 2.1/2.2 MB 395.4 kB/s eta 0:00:01\n",
      "   -------------------------------------- - 2.1/2.2 MB 395.4 kB/s eta 0:00:01\n",
      "   ---------------------------------------- 2.2/2.2 MB 381.2 kB/s eta 0:00:00\n",
      "Using cached kiwisolver-1.4.7-cp312-cp312-win_amd64.whl (55 kB)\n",
      "Using cached pillow-11.0.0-cp312-cp312-win_amd64.whl (2.6 MB)\n",
      "Using cached pyparsing-3.2.0-py3-none-any.whl (106 kB)\n",
      "Installing collected packages: pyparsing, pillow, kiwisolver, fonttools, cycler, contourpy, matplotlib\n",
      "Successfully installed contourpy-1.3.1 cycler-0.12.1 fonttools-4.55.0 kiwisolver-1.4.7 matplotlib-3.9.2 pillow-11.0.0 pyparsing-3.2.0\n",
      "Note: you may need to restart the kernel to use updated packages.\n"
     ]
    }
   ],
   "source": [
    "pip install matplotlib\n"
   ]
  },
  {
   "cell_type": "code",
   "execution_count": 33,
   "id": "3f8a1a4e-b19e-4789-a947-3e5c892bd894",
   "metadata": {},
   "outputs": [
    {
     "name": "stdout",
     "output_type": "stream",
     "text": [
      "Epoch 1/40\n",
      "\u001b[1m67/67\u001b[0m \u001b[32m━━━━━━━━━━━━━━━━━━━━\u001b[0m\u001b[37m\u001b[0m \u001b[1m4s\u001b[0m 21ms/step - accuracy: 0.9048 - loss: 0.3001 - val_accuracy: 0.8715 - val_loss: 0.5599\n",
      "Epoch 2/40\n",
      "\u001b[1m67/67\u001b[0m \u001b[32m━━━━━━━━━━━━━━━━━━━━\u001b[0m\u001b[37m\u001b[0m \u001b[1m1s\u001b[0m 17ms/step - accuracy: 0.8801 - loss: 0.3378 - val_accuracy: 0.8544 - val_loss: 0.5589\n",
      "Epoch 3/40\n",
      "\u001b[1m67/67\u001b[0m \u001b[32m━━━━━━━━━━━━━━━━━━━━\u001b[0m\u001b[37m\u001b[0m \u001b[1m1s\u001b[0m 17ms/step - accuracy: 0.9009 - loss: 0.3104 - val_accuracy: 0.8318 - val_loss: 0.6942\n",
      "Epoch 4/40\n",
      "\u001b[1m67/67\u001b[0m \u001b[32m━━━━━━━━━━━━━━━━━━━━\u001b[0m\u001b[37m\u001b[0m \u001b[1m1s\u001b[0m 16ms/step - accuracy: 0.8915 - loss: 0.2946 - val_accuracy: 0.8677 - val_loss: 0.4908\n",
      "Epoch 5/40\n",
      "\u001b[1m67/67\u001b[0m \u001b[32m━━━━━━━━━━━━━━━━━━━━\u001b[0m\u001b[37m\u001b[0m \u001b[1m1s\u001b[0m 17ms/step - accuracy: 0.9133 - loss: 0.2564 - val_accuracy: 0.8733 - val_loss: 0.5207\n",
      "Epoch 6/40\n",
      "\u001b[1m67/67\u001b[0m \u001b[32m━━━━━━━━━━━━━━━━━━━━\u001b[0m\u001b[37m\u001b[0m \u001b[1m1s\u001b[0m 16ms/step - accuracy: 0.9108 - loss: 0.2340 - val_accuracy: 0.8639 - val_loss: 0.5168\n",
      "Epoch 7/40\n",
      "\u001b[1m67/67\u001b[0m \u001b[32m━━━━━━━━━━━━━━━━━━━━\u001b[0m\u001b[37m\u001b[0m \u001b[1m1s\u001b[0m 15ms/step - accuracy: 0.9250 - loss: 0.2238 - val_accuracy: 0.8639 - val_loss: 0.4407\n",
      "Epoch 8/40\n",
      "\u001b[1m67/67\u001b[0m \u001b[32m━━━━━━━━━━━━━━━━━━━━\u001b[0m\u001b[37m\u001b[0m \u001b[1m1s\u001b[0m 18ms/step - accuracy: 0.9368 - loss: 0.1914 - val_accuracy: 0.8715 - val_loss: 0.5025\n",
      "Epoch 9/40\n",
      "\u001b[1m67/67\u001b[0m \u001b[32m━━━━━━━━━━━━━━━━━━━━\u001b[0m\u001b[37m\u001b[0m \u001b[1m1s\u001b[0m 16ms/step - accuracy: 0.9194 - loss: 0.2441 - val_accuracy: 0.8790 - val_loss: 0.4749\n",
      "Epoch 10/40\n",
      "\u001b[1m67/67\u001b[0m \u001b[32m━━━━━━━━━━━━━━━━━━━━\u001b[0m\u001b[37m\u001b[0m \u001b[1m1s\u001b[0m 17ms/step - accuracy: 0.9220 - loss: 0.2245 - val_accuracy: 0.8658 - val_loss: 0.4975\n",
      "Epoch 11/40\n",
      "\u001b[1m67/67\u001b[0m \u001b[32m━━━━━━━━━━━━━━━━━━━━\u001b[0m\u001b[37m\u001b[0m \u001b[1m1s\u001b[0m 16ms/step - accuracy: 0.9186 - loss: 0.2129 - val_accuracy: 0.8771 - val_loss: 0.5018\n",
      "Epoch 12/40\n",
      "\u001b[1m67/67\u001b[0m \u001b[32m━━━━━━━━━━━━━━━━━━━━\u001b[0m\u001b[37m\u001b[0m \u001b[1m1s\u001b[0m 18ms/step - accuracy: 0.9202 - loss: 0.1898 - val_accuracy: 0.8771 - val_loss: 0.4890\n",
      "Epoch 13/40\n",
      "\u001b[1m67/67\u001b[0m \u001b[32m━━━━━━━━━━━━━━━━━━━━\u001b[0m\u001b[37m\u001b[0m \u001b[1m1s\u001b[0m 17ms/step - accuracy: 0.9210 - loss: 0.2187 - val_accuracy: 0.8582 - val_loss: 0.5313\n",
      "Epoch 14/40\n",
      "\u001b[1m67/67\u001b[0m \u001b[32m━━━━━━━━━━━━━━━━━━━━\u001b[0m\u001b[37m\u001b[0m \u001b[1m1s\u001b[0m 18ms/step - accuracy: 0.9162 - loss: 0.2268 - val_accuracy: 0.8771 - val_loss: 0.5447\n",
      "Epoch 15/40\n",
      "\u001b[1m67/67\u001b[0m \u001b[32m━━━━━━━━━━━━━━━━━━━━\u001b[0m\u001b[37m\u001b[0m \u001b[1m1s\u001b[0m 16ms/step - accuracy: 0.9265 - loss: 0.2123 - val_accuracy: 0.8620 - val_loss: 0.5042\n",
      "Epoch 16/40\n",
      "\u001b[1m67/67\u001b[0m \u001b[32m━━━━━━━━━━━━━━━━━━━━\u001b[0m\u001b[37m\u001b[0m \u001b[1m1s\u001b[0m 18ms/step - accuracy: 0.9333 - loss: 0.1775 - val_accuracy: 0.8885 - val_loss: 0.4947\n",
      "Epoch 17/40\n",
      "\u001b[1m67/67\u001b[0m \u001b[32m━━━━━━━━━━━━━━━━━━━━\u001b[0m\u001b[37m\u001b[0m \u001b[1m1s\u001b[0m 15ms/step - accuracy: 0.9476 - loss: 0.1656 - val_accuracy: 0.8715 - val_loss: 0.4833\n",
      "Epoch 18/40\n",
      "\u001b[1m67/67\u001b[0m \u001b[32m━━━━━━━━━━━━━━━━━━━━\u001b[0m\u001b[37m\u001b[0m \u001b[1m1s\u001b[0m 17ms/step - accuracy: 0.9331 - loss: 0.1920 - val_accuracy: 0.8885 - val_loss: 0.4811\n",
      "Epoch 19/40\n",
      "\u001b[1m67/67\u001b[0m \u001b[32m━━━━━━━━━━━━━━━━━━━━\u001b[0m\u001b[37m\u001b[0m \u001b[1m1s\u001b[0m 18ms/step - accuracy: 0.9339 - loss: 0.1840 - val_accuracy: 0.8752 - val_loss: 0.5395\n",
      "Epoch 20/40\n",
      "\u001b[1m67/67\u001b[0m \u001b[32m━━━━━━━━━━━━━━━━━━━━\u001b[0m\u001b[37m\u001b[0m \u001b[1m1s\u001b[0m 16ms/step - accuracy: 0.9390 - loss: 0.1620 - val_accuracy: 0.8582 - val_loss: 0.6020\n",
      "Epoch 21/40\n",
      "\u001b[1m67/67\u001b[0m \u001b[32m━━━━━━━━━━━━━━━━━━━━\u001b[0m\u001b[37m\u001b[0m \u001b[1m1s\u001b[0m 17ms/step - accuracy: 0.9369 - loss: 0.1671 - val_accuracy: 0.8715 - val_loss: 0.5144\n",
      "Epoch 22/40\n",
      "\u001b[1m67/67\u001b[0m \u001b[32m━━━━━━━━━━━━━━━━━━━━\u001b[0m\u001b[37m\u001b[0m \u001b[1m1s\u001b[0m 17ms/step - accuracy: 0.9394 - loss: 0.1678 - val_accuracy: 0.8582 - val_loss: 0.5973\n",
      "Epoch 23/40\n",
      "\u001b[1m67/67\u001b[0m \u001b[32m━━━━━━━━━━━━━━━━━━━━\u001b[0m\u001b[37m\u001b[0m \u001b[1m1s\u001b[0m 16ms/step - accuracy: 0.9306 - loss: 0.2192 - val_accuracy: 0.8620 - val_loss: 0.5580\n",
      "Epoch 24/40\n",
      "\u001b[1m67/67\u001b[0m \u001b[32m━━━━━━━━━━━━━━━━━━━━\u001b[0m\u001b[37m\u001b[0m \u001b[1m1s\u001b[0m 16ms/step - accuracy: 0.9356 - loss: 0.1809 - val_accuracy: 0.8677 - val_loss: 0.5784\n",
      "Epoch 25/40\n",
      "\u001b[1m67/67\u001b[0m \u001b[32m━━━━━━━━━━━━━━━━━━━━\u001b[0m\u001b[37m\u001b[0m \u001b[1m1s\u001b[0m 17ms/step - accuracy: 0.9383 - loss: 0.1644 - val_accuracy: 0.8771 - val_loss: 0.5306\n",
      "Epoch 26/40\n",
      "\u001b[1m67/67\u001b[0m \u001b[32m━━━━━━━━━━━━━━━━━━━━\u001b[0m\u001b[37m\u001b[0m \u001b[1m1s\u001b[0m 17ms/step - accuracy: 0.9241 - loss: 0.1990 - val_accuracy: 0.8639 - val_loss: 0.6650\n",
      "Epoch 27/40\n",
      "\u001b[1m67/67\u001b[0m \u001b[32m━━━━━━━━━━━━━━━━━━━━\u001b[0m\u001b[37m\u001b[0m \u001b[1m1s\u001b[0m 16ms/step - accuracy: 0.9265 - loss: 0.1805 - val_accuracy: 0.8733 - val_loss: 0.4955\n",
      "Epoch 28/40\n",
      "\u001b[1m67/67\u001b[0m \u001b[32m━━━━━━━━━━━━━━━━━━━━\u001b[0m\u001b[37m\u001b[0m \u001b[1m1s\u001b[0m 17ms/step - accuracy: 0.9394 - loss: 0.1668 - val_accuracy: 0.8639 - val_loss: 0.5619\n",
      "Epoch 29/40\n",
      "\u001b[1m67/67\u001b[0m \u001b[32m━━━━━━━━━━━━━━━━━━━━\u001b[0m\u001b[37m\u001b[0m \u001b[1m1s\u001b[0m 18ms/step - accuracy: 0.9391 - loss: 0.1729 - val_accuracy: 0.8752 - val_loss: 0.5381\n",
      "Epoch 30/40\n",
      "\u001b[1m67/67\u001b[0m \u001b[32m━━━━━━━━━━━━━━━━━━━━\u001b[0m\u001b[37m\u001b[0m \u001b[1m1s\u001b[0m 16ms/step - accuracy: 0.9280 - loss: 0.2036 - val_accuracy: 0.8752 - val_loss: 0.5001\n",
      "Epoch 31/40\n",
      "\u001b[1m67/67\u001b[0m \u001b[32m━━━━━━━━━━━━━━━━━━━━\u001b[0m\u001b[37m\u001b[0m \u001b[1m1s\u001b[0m 16ms/step - accuracy: 0.9309 - loss: 0.1710 - val_accuracy: 0.8733 - val_loss: 0.5571\n",
      "Epoch 32/40\n",
      "\u001b[1m67/67\u001b[0m \u001b[32m━━━━━━━━━━━━━━━━━━━━\u001b[0m\u001b[37m\u001b[0m \u001b[1m1s\u001b[0m 16ms/step - accuracy: 0.9384 - loss: 0.1575 - val_accuracy: 0.8809 - val_loss: 0.5312\n",
      "Epoch 33/40\n",
      "\u001b[1m67/67\u001b[0m \u001b[32m━━━━━━━━━━━━━━━━━━━━\u001b[0m\u001b[37m\u001b[0m \u001b[1m1s\u001b[0m 16ms/step - accuracy: 0.9386 - loss: 0.1736 - val_accuracy: 0.8809 - val_loss: 0.5339\n",
      "Epoch 34/40\n",
      "\u001b[1m67/67\u001b[0m \u001b[32m━━━━━━━━━━━━━━━━━━━━\u001b[0m\u001b[37m\u001b[0m \u001b[1m1s\u001b[0m 17ms/step - accuracy: 0.9365 - loss: 0.1646 - val_accuracy: 0.8715 - val_loss: 0.5973\n",
      "Epoch 35/40\n",
      "\u001b[1m67/67\u001b[0m \u001b[32m━━━━━━━━━━━━━━━━━━━━\u001b[0m\u001b[37m\u001b[0m \u001b[1m1s\u001b[0m 15ms/step - accuracy: 0.8987 - loss: 0.3496 - val_accuracy: 0.8771 - val_loss: 0.5256\n",
      "Epoch 36/40\n",
      "\u001b[1m67/67\u001b[0m \u001b[32m━━━━━━━━━━━━━━━━━━━━\u001b[0m\u001b[37m\u001b[0m \u001b[1m1s\u001b[0m 16ms/step - accuracy: 0.9469 - loss: 0.1483 - val_accuracy: 0.8809 - val_loss: 0.4755\n",
      "Epoch 37/40\n",
      "\u001b[1m67/67\u001b[0m \u001b[32m━━━━━━━━━━━━━━━━━━━━\u001b[0m\u001b[37m\u001b[0m \u001b[1m1s\u001b[0m 15ms/step - accuracy: 0.9233 - loss: 0.1973 - val_accuracy: 0.8639 - val_loss: 0.5697\n",
      "Epoch 38/40\n",
      "\u001b[1m67/67\u001b[0m \u001b[32m━━━━━━━━━━━━━━━━━━━━\u001b[0m\u001b[37m\u001b[0m \u001b[1m1s\u001b[0m 16ms/step - accuracy: 0.9433 - loss: 0.1724 - val_accuracy: 0.8658 - val_loss: 0.6122\n",
      "Epoch 39/40\n",
      "\u001b[1m67/67\u001b[0m \u001b[32m━━━━━━━━━━━━━━━━━━━━\u001b[0m\u001b[37m\u001b[0m \u001b[1m1s\u001b[0m 16ms/step - accuracy: 0.9442 - loss: 0.1699 - val_accuracy: 0.8582 - val_loss: 0.6302\n",
      "Epoch 40/40\n",
      "\u001b[1m67/67\u001b[0m \u001b[32m━━━━━━━━━━━━━━━━━━━━\u001b[0m\u001b[37m\u001b[0m \u001b[1m1s\u001b[0m 16ms/step - accuracy: 0.9403 - loss: 0.1668 - val_accuracy: 0.8752 - val_loss: 0.5189\n"
     ]
    }
   ],
   "source": [
    "import numpy as np\n",
    "\n",
    "# Convert one-hot encoded labels to class indices\n",
    "y_train = np.argmax(y_train, axis=-1)\n",
    "y_test = np.argmax(y_test, axis=-1)\n",
    "\n",
    "# Recompile the model with sparse_categorical_crossentropy\n",
    "model.compile(optimizer='adam', loss='sparse_categorical_crossentropy', metrics=['accuracy'])\n",
    "\n",
    "# Now train the model\n",
    "history = model.fit(X_train, y_train, epochs=40, batch_size=32, validation_data=(X_test, y_test))\n"
   ]
  },
  {
   "cell_type": "code",
   "execution_count": 34,
   "id": "6f40982d-9662-4d99-8d5f-0ef288528d78",
   "metadata": {},
   "outputs": [
    {
     "name": "stdout",
     "output_type": "stream",
     "text": [
      "Requirement already satisfied: sounddevice in c:\\users\\asus\\pycharmprojects\\voicemodel\\venv\\lib\\site-packages (0.5.1)\n",
      "Requirement already satisfied: librosa in c:\\users\\asus\\pycharmprojects\\voicemodel\\venv\\lib\\site-packages (0.10.2.post1)\n",
      "Requirement already satisfied: CFFI>=1.0 in c:\\users\\asus\\pycharmprojects\\voicemodel\\venv\\lib\\site-packages (from sounddevice) (1.17.1)\n",
      "Requirement already satisfied: audioread>=2.1.9 in c:\\users\\asus\\pycharmprojects\\voicemodel\\venv\\lib\\site-packages (from librosa) (3.0.1)\n",
      "Requirement already satisfied: numpy!=1.22.0,!=1.22.1,!=1.22.2,>=1.20.3 in c:\\users\\asus\\pycharmprojects\\voicemodel\\venv\\lib\\site-packages (from librosa) (2.0.2)\n",
      "Requirement already satisfied: scipy>=1.2.0 in c:\\users\\asus\\pycharmprojects\\voicemodel\\venv\\lib\\site-packages (from librosa) (1.14.1)\n",
      "Requirement already satisfied: scikit-learn>=0.20.0 in c:\\users\\asus\\pycharmprojects\\voicemodel\\venv\\lib\\site-packages (from librosa) (1.5.2)\n",
      "Requirement already satisfied: joblib>=0.14 in c:\\users\\asus\\pycharmprojects\\voicemodel\\venv\\lib\\site-packages (from librosa) (1.4.2)\n",
      "Requirement already satisfied: decorator>=4.3.0 in c:\\users\\asus\\pycharmprojects\\voicemodel\\venv\\lib\\site-packages (from librosa) (5.1.1)\n",
      "Requirement already satisfied: numba>=0.51.0 in c:\\users\\asus\\pycharmprojects\\voicemodel\\venv\\lib\\site-packages (from librosa) (0.60.0)\n",
      "Requirement already satisfied: soundfile>=0.12.1 in c:\\users\\asus\\pycharmprojects\\voicemodel\\venv\\lib\\site-packages (from librosa) (0.12.1)\n",
      "Requirement already satisfied: pooch>=1.1 in c:\\users\\asus\\pycharmprojects\\voicemodel\\venv\\lib\\site-packages (from librosa) (1.8.2)\n",
      "Requirement already satisfied: soxr>=0.3.2 in c:\\users\\asus\\pycharmprojects\\voicemodel\\venv\\lib\\site-packages (from librosa) (0.5.0.post1)\n",
      "Requirement already satisfied: typing-extensions>=4.1.1 in c:\\users\\asus\\pycharmprojects\\voicemodel\\venv\\lib\\site-packages (from librosa) (4.12.2)\n",
      "Requirement already satisfied: lazy-loader>=0.1 in c:\\users\\asus\\pycharmprojects\\voicemodel\\venv\\lib\\site-packages (from librosa) (0.4)\n",
      "Requirement already satisfied: msgpack>=1.0 in c:\\users\\asus\\pycharmprojects\\voicemodel\\venv\\lib\\site-packages (from librosa) (1.1.0)\n",
      "Requirement already satisfied: pycparser in c:\\users\\asus\\pycharmprojects\\voicemodel\\venv\\lib\\site-packages (from CFFI>=1.0->sounddevice) (2.22)\n",
      "Requirement already satisfied: packaging in c:\\users\\asus\\pycharmprojects\\voicemodel\\venv\\lib\\site-packages (from lazy-loader>=0.1->librosa) (24.1)\n",
      "Requirement already satisfied: llvmlite<0.44,>=0.43.0dev0 in c:\\users\\asus\\pycharmprojects\\voicemodel\\venv\\lib\\site-packages (from numba>=0.51.0->librosa) (0.43.0)\n",
      "Requirement already satisfied: platformdirs>=2.5.0 in c:\\users\\asus\\pycharmprojects\\voicemodel\\venv\\lib\\site-packages (from pooch>=1.1->librosa) (4.3.6)\n",
      "Requirement already satisfied: requests>=2.19.0 in c:\\users\\asus\\pycharmprojects\\voicemodel\\venv\\lib\\site-packages (from pooch>=1.1->librosa) (2.32.3)\n",
      "Requirement already satisfied: threadpoolctl>=3.1.0 in c:\\users\\asus\\pycharmprojects\\voicemodel\\venv\\lib\\site-packages (from scikit-learn>=0.20.0->librosa) (3.5.0)\n",
      "Requirement already satisfied: charset-normalizer<4,>=2 in c:\\users\\asus\\pycharmprojects\\voicemodel\\venv\\lib\\site-packages (from requests>=2.19.0->pooch>=1.1->librosa) (3.4.0)\n",
      "Requirement already satisfied: idna<4,>=2.5 in c:\\users\\asus\\pycharmprojects\\voicemodel\\venv\\lib\\site-packages (from requests>=2.19.0->pooch>=1.1->librosa) (3.10)\n",
      "Requirement already satisfied: urllib3<3,>=1.21.1 in c:\\users\\asus\\pycharmprojects\\voicemodel\\venv\\lib\\site-packages (from requests>=2.19.0->pooch>=1.1->librosa) (2.2.3)\n",
      "Requirement already satisfied: certifi>=2017.4.17 in c:\\users\\asus\\pycharmprojects\\voicemodel\\venv\\lib\\site-packages (from requests>=2.19.0->pooch>=1.1->librosa) (2024.8.30)\n"
     ]
    }
   ],
   "source": [
    "!pip install sounddevice librosa"
   ]
  },
  {
   "cell_type": "code",
   "execution_count": 35,
   "id": "a86d1203-1fbe-4032-a7da-54a029b63aa7",
   "metadata": {},
   "outputs": [
    {
     "name": "stderr",
     "output_type": "stream",
     "text": [
      "WARNING:absl:You are saving your model as an HDF5 file via `model.save()` or `keras.saving.save_model(model)`. This file format is considered legacy. We recommend using instead the native Keras format, e.g. `model.save('my_model.keras')` or `keras.saving.save_model(model, 'my_model.keras')`. \n"
     ]
    },
    {
     "name": "stdout",
     "output_type": "stream",
     "text": [
      "Model saved as audio_cnn_model4.h5\n"
     ]
    }
   ],
   "source": [
    "# Save the model as an HDF5 file\n",
    "model.save(\"audio_cnn_model4.h5\")\n",
    "print(\"Model saved as audio_cnn_model4.h5\")"
   ]
  },
  {
   "cell_type": "code",
   "execution_count": 36,
   "id": "4bae9948-c367-4dd7-8c0b-1a2c35a7a2b0",
   "metadata": {},
   "outputs": [
    {
     "name": "stdout",
     "output_type": "stream",
     "text": [
      "['.idea', '.ipynb_checkpoints', 'a.ipynb', 'audio_cnn_model.h5', 'audio_cnn_model1.h5', 'audio_cnn_model2.h5', 'audio_cnn_model3.h5', 'audio_cnn_model4.h5', 'convert M4A to WAV.py', 'edc.py', 'er.py', 'erds.py', 'ewsd.py', 'extraction.py', 'extraction_new.py', 'features_with_labels.csv', 'feature_extraction.py', 'feature_extraction2.py', 'feature_extration_working.py', 'label_encoder.pkl', 'main.py', 'normalize.py', 'original_aug.py', 'preprocess.py', 'train.ipynb', 'train_new.ipynb', 'Untitled.ipynb', 'Untitled1.ipynb', 'Untitled2.ipynb', 'Untitled3.ipynb', 'Untitled4.ipynb', 'Untitled5.ipynb', 'Untitled6.ipynb', 'Untitled7.ipynb', 'venv', 'voice_recognition_cnn.h5', 'voice_recognition_cnn.keras', 'w.py', 'x.py', 'x1.py']\n"
     ]
    }
   ],
   "source": [
    "import os\n",
    "print(os.listdir())  # This will list all files in the current directory"
   ]
  },
  {
   "cell_type": "code",
   "execution_count": 37,
   "id": "4359d80f-7c81-4f85-82f2-dc9972a52a7b",
   "metadata": {},
   "outputs": [],
   "source": [
    "import sounddevice as sd\n",
    "import numpy as np\n",
    "\n",
    "# Settings\n",
    "sampling_rate = 22050  # Match this with the model’s training sampling rate\n",
    "duration = 2  # Duration for recording in seconds\n",
    "\n",
    "def record_audio(duration=2, fs=22050):\n",
    "    print(\"Recording...\")\n",
    "    audio = sd.rec(int(duration * fs), samplerate=fs, channels=1, dtype='float32')\n",
    "    sd.wait()  # Wait until recording is complete\n",
    "    print(\"Recording complete.\")\n",
    "    return audio.flatten()"
   ]
  },
  {
   "cell_type": "code",
   "execution_count": 38,
   "id": "eb0d2a38-4bfb-46a2-b001-ccf6a886cc26",
   "metadata": {},
   "outputs": [],
   "source": [
    "import sounddevice as sd\n",
    "import numpy as np\n",
    "\n",
    "# Settings\n",
    "sampling_rate = 22050  # Match this with the model’s training sampling rate\n",
    "duration = 2  # Duration for recording in seconds\n",
    "\n",
    "def record_audio(duration=2, fs=22050):\n",
    "    print(\"Recording...\")\n",
    "    audio = sd.rec(int(duration * fs), samplerate=fs, channels=1, dtype='float32')\n",
    "    sd.wait()  # Wait until recording is complete\n",
    "    print(\"Recording complete.\")\n",
    "    return audio.flatten()"
   ]
  },
  {
   "cell_type": "code",
   "execution_count": 39,
   "id": "5daeebd8-4b4a-408f-a97d-01a0060c6cb1",
   "metadata": {},
   "outputs": [
    {
     "name": "stdout",
     "output_type": "stream",
     "text": [
      "Recording test audio...\n",
      "Recording complete. Playing back audio...\n"
     ]
    }
   ],
   "source": [
    "import sounddevice as sd\n",
    "import numpy as np\n",
    "\n",
    "# Test recording and playback\n",
    "sampling_rate = 22050  # Hz\n",
    "duration = 2  # seconds\n",
    "\n",
    "print(\"Recording test audio...\")\n",
    "audio = sd.rec(int(duration * sampling_rate), samplerate=sampling_rate, channels=1, dtype='float32')\n",
    "sd.wait()  # Wait until recording is complete\n",
    "print(\"Recording complete. Playing back audio...\")\n",
    "\n",
    "# Play back the recorded audio\n",
    "sd.play(audio, samplerate=sampling_rate)\n",
    "sd.wait()  # Wait until playback is complete"
   ]
  },
  {
   "cell_type": "code",
   "execution_count": 40,
   "id": "115e0a01-50ae-40f2-99e1-74190ca185ce",
   "metadata": {},
   "outputs": [],
   "source": [
    "import librosa\n",
    "\n",
    "def extract_mfcc_features(audio, sampling_rate, n_mfcc=13, max_pad_len=100):\n",
    "    # Extract MFCC features from the recorded audio\n",
    "    mfccs = librosa.feature.mfcc(y=audio, sr=sampling_rate, n_mfcc=n_mfcc)\n",
    "    \n",
    "    # Pad or truncate to ensure consistent shape\n",
    "    if mfccs.shape[1] < max_pad_len:\n",
    "        pad_width = max_pad_len - mfccs.shape[1]\n",
    "        mfccs = np.pad(mfccs, pad_width=((0, 0), (0, pad_width)), mode='constant')\n",
    "    else:\n",
    "        mfccs = mfccs[:, :max_pad_len]\n",
    "        \n",
    "    # Reshape for model input (1, n_mfcc, max_pad_len, 1)\n",
    "    mfccs = mfccs.reshape(1, n_mfcc, max_pad_len, 1)\n",
    "    return mfccs"
   ]
  },
  {
   "cell_type": "code",
   "execution_count": 41,
   "id": "7437969f-e9dc-4209-a859-7f7cad738d4a",
   "metadata": {},
   "outputs": [
    {
     "name": "stderr",
     "output_type": "stream",
     "text": [
      "WARNING:absl:Compiled the loaded model, but the compiled metrics have yet to be built. `model.compile_metrics` will be empty until you train or evaluate the model.\n"
     ]
    },
    {
     "name": "stdout",
     "output_type": "stream",
     "text": [
      "Model loaded successfully.\n"
     ]
    }
   ],
   "source": [
    "from tensorflow.keras.models import load_model\n",
    "\n",
    "# Load the trained model\n",
    "model = load_model(\"audio_cnn_model4.h5\")\n",
    "print(\"Model loaded successfully.\")"
   ]
  },
  {
   "cell_type": "code",
   "execution_count": 42,
   "id": "c3055907-581c-447e-98c8-fb4a7b6704af",
   "metadata": {},
   "outputs": [],
   "source": [
    "from sklearn.preprocessing import LabelEncoder\n",
    "\n",
    "# Load label encoder or define classes if needed\n",
    "classes = ['Achchi', 'Amma', 'Ayya', 'kala', 'Mala','Malli','Tharuwa','Thaththa','Wathura','Yathura']  # Replace with actual class labels\n",
    "label_encoder = LabelEncoder()\n",
    "label_encoder.fit(classes)  # This should match the labels used in training\n",
    "\n",
    "def predict_audio():\n",
    "    # Step 1: Record audio\n",
    "    audio = record_audio(duration, sampling_rate)\n",
    "    \n",
    "    # Step 2: Extract MFCC features\n",
    "    mfcc_features = extract_mfcc_features(audio, sampling_rate)\n",
    "    \n",
    "    # Step 3: Make a prediction\n",
    "    prediction = model.predict(mfcc_features)\n",
    "    predicted_class = np.argmax(prediction)\n",
    "    predicted_label = label_encoder.inverse_transform([predicted_class])[0]\n",
    "    \n",
    "    # Step 4: Get the confidence score (percentage match)\n",
    "    confidence = prediction[0][predicted_class] * 100\n",
    "    \n",
    "    # Step 5: Display the result\n",
    "    print(f\"Predicted word: {predicted_label}\")\n",
    "    print(f\"Confidence: {confidence:.2f}%\")"
   ]
  },
  {
   "cell_type": "code",
   "execution_count": 43,
   "id": "1f960866-9d37-41ec-b14f-be6577d09f48",
   "metadata": {},
   "outputs": [],
   "source": [
    "def predict_audio():\n",
    "    \"\"\"\n",
    "    Records audio, extracts features, makes a prediction, and displays the result.\n",
    "    \"\"\"\n",
    "    # Parameters\n",
    "    duration = 3  # Duration of audio in seconds\n",
    "    sampling_rate = 16000  # Sampling rate (common for speech processing)\n",
    "\n",
    "    # Step 1: Record the audio\n",
    "    audio = record_audio(duration, sampling_rate)\n",
    "\n",
    "    # Step 2: Extract MFCC features from the recorded audio\n",
    "    mfcc_features = extract_mfcc_features(audio, sampling_rate)\n",
    "\n",
    "    # Step 3: Make the prediction using the trained model\n",
    "    prediction = model.predict(mfcc_features)  # Model should be a trained classifier (e.g., CNN)\n",
    "    \n",
    "    # Debugging output\n",
    "    print(\"Raw prediction probabilities:\", prediction)\n",
    "    \n",
    "    predicted_class = np.argmax(prediction)  # Get the index of the highest probability\n",
    "    print(f\"Predicted class index: {predicted_class}\")\n",
    "\n",
    "    # Step 4: Decode the predicted class index to the actual class label\n",
    "    predicted_label = label_encoder.inverse_transform([predicted_class])[0]  # Get the label\n",
    "    print(f\"Predicted label: {predicted_label}\")\n",
    "\n",
    "    # Step 5: Get the confidence score\n",
    "    confidence = prediction[0][predicted_class] * 100\n",
    "\n",
    "    # Step 6: Display the result\n",
    "    print(f\"Predicted word: {predicted_label}\")\n",
    "    print(f\"Confidence: {confidence:.2f}%\")\n"
   ]
  },
  {
   "cell_type": "code",
   "execution_count": 44,
   "id": "21e1b35c-19c3-4beb-8fc5-b880644ac01b",
   "metadata": {},
   "outputs": [
    {
     "name": "stdout",
     "output_type": "stream",
     "text": [
      "Recording...\n",
      "Recording complete.\n",
      "\u001b[1m1/1\u001b[0m \u001b[32m━━━━━━━━━━━━━━━━━━━━\u001b[0m\u001b[37m\u001b[0m \u001b[1m0s\u001b[0m 82ms/step\n",
      "Raw prediction probabilities: [[1.7813463e-03 7.4833614e-04 6.1241984e-03 9.4639534e-01 1.6572736e-03\n",
      "  1.5769804e-02 3.8922317e-03 1.6194279e-03 1.6457149e-03 2.0366397e-02]]\n",
      "Predicted class index: 3\n",
      "Predicted label: Mala\n",
      "Predicted word: Mala\n",
      "Confidence: 94.64%\n"
     ]
    }
   ],
   "source": [
    "# Run real-time prediction\n",
    "predict_audio()\n"
   ]
  },
  {
   "cell_type": "code",
   "execution_count": 45,
   "id": "2f844f7f-bf92-429f-8f64-9f8108a9a667",
   "metadata": {},
   "outputs": [
    {
     "data": {
      "image/png": "[encoded data removed]",
      "text/plain": [
       "<Figure size 640x480 with 1 Axes>"
      ]
     },
     "metadata": {},
     "output_type": "display_data"
    }
   ],
   "source": [
    "import matplotlib.pyplot as plt\n",
    "\n",
    "# Extract the validation accuracy (test accuracy) from the history object\n",
    "val_accuracy = history.history['val_accuracy']\n",
    "\n",
    "# Plot the accuracy curve on test data (validation accuracy)\n",
    "plt.plot(val_accuracy, label='Test Accuracy')\n",
    "plt.xlabel('Epochs')\n",
    "plt.ylabel('Accuracy')\n",
    "plt.title('Test Accuracy Over Epochs')\n",
    "plt.legend()\n",
    "plt.show()\n"
   ]
  },
  {
   "cell_type": "code",
   "execution_count": 46,
   "id": "ecd28b05-f958-4be1-b72f-d5864d3607e4",
   "metadata": {},
   "outputs": [
    {
     "data": {
      "image/png": "[encoded data removed]",
      "text/plain": [
       "<Figure size 640x480 with 1 Axes>"
      ]
     },
     "metadata": {},
     "output_type": "display_data"
    }
   ],
   "source": [
    "import matplotlib.pyplot as plt\n",
    "\n",
    "# Extract training and validation accuracy from the history object\n",
    "train_accuracy = history.history['accuracy']\n",
    "val_accuracy = history.history['val_accuracy']\n",
    "\n",
    "# Plot both training and validation accuracy\n",
    "plt.plot(train_accuracy, label='Training Accuracy')\n",
    "plt.plot(val_accuracy, label='Validation Accuracy')\n",
    "\n",
    "# Adding labels and title\n",
    "plt.xlabel('Epochs')\n",
    "plt.ylabel('Accuracy')\n",
    "plt.title('Training and Validation Accuracy Over Epochs')\n",
    "\n",
    "# Displaying the legend\n",
    "plt.legend()\n",
    "\n",
    "# Show the plot\n",
    "plt.show()\n"
   ]
  },
  {
   "cell_type": "code",
   "execution_count": 47,
   "id": "0c4f69c9-7b0d-4cf2-9c1c-8b07107ae90f",
   "metadata": {},
   "outputs": [
    {
     "data": {
      "image/png": "[encoded data removed]",
      "text/plain": [
       "<Figure size 640x480 with 1 Axes>"
      ]
     },
     "metadata": {},
     "output_type": "display_data"
    }
   ],
   "source": [
    "import matplotlib.pyplot as plt\n",
    "\n",
    "# Extract training and validation loss from the history object\n",
    "train_loss = history.history['loss']\n",
    "val_loss = history.history['val_loss']\n",
    "\n",
    "# Plot both training and validation loss\n",
    "plt.plot(train_loss, label='Training Loss')\n",
    "plt.plot(val_loss, label='Validation Loss')\n",
    "\n",
    "# Adding labels and title\n",
    "plt.xlabel('Epochs')\n",
    "plt.ylabel('Loss')\n",
    "plt.title('Training and Validation Loss Over Epochs')\n",
    "\n",
    "# Displaying the legend\n",
    "plt.legend()\n",
    "\n",
    "# Show the plot\n",
    "plt.show()\n"
   ]
  },
  {
   "cell_type": "code",
   "execution_count": 48,
   "id": "d88aaac1-0e82-40b9-b510-77199efab32e",
   "metadata": {},
   "outputs": [
    {
     "ename": "ModuleNotFoundError",
     "evalue": "No module named 'seaborn'",
     "output_type": "error",
     "traceback": [
      "\u001b[1;31m---------------------------------------------------------------------------\u001b[0m",
      "\u001b[1;31mModuleNotFoundError\u001b[0m                       Traceback (most recent call last)",
      "Cell \u001b[1;32mIn[48], line 3\u001b[0m\n\u001b[0;32m      1\u001b[0m \u001b[38;5;28;01mimport\u001b[39;00m \u001b[38;5;21;01mnumpy\u001b[39;00m \u001b[38;5;28;01mas\u001b[39;00m \u001b[38;5;21;01mnp\u001b[39;00m\n\u001b[0;32m      2\u001b[0m \u001b[38;5;28;01mimport\u001b[39;00m \u001b[38;5;21;01mmatplotlib\u001b[39;00m\u001b[38;5;21;01m.\u001b[39;00m\u001b[38;5;21;01mpyplot\u001b[39;00m \u001b[38;5;28;01mas\u001b[39;00m \u001b[38;5;21;01mplt\u001b[39;00m\n\u001b[1;32m----> 3\u001b[0m \u001b[38;5;28;01mimport\u001b[39;00m \u001b[38;5;21;01mseaborn\u001b[39;00m \u001b[38;5;28;01mas\u001b[39;00m \u001b[38;5;21;01msns\u001b[39;00m\n\u001b[0;32m      4\u001b[0m \u001b[38;5;28;01mfrom\u001b[39;00m \u001b[38;5;21;01msklearn\u001b[39;00m\u001b[38;5;21;01m.\u001b[39;00m\u001b[38;5;21;01mmetrics\u001b[39;00m \u001b[38;5;28;01mimport\u001b[39;00m confusion_matrix\n\u001b[0;32m      6\u001b[0m \u001b[38;5;66;03m# Step 1: Get the model's predictions on the test set\u001b[39;00m\n\u001b[0;32m      7\u001b[0m \u001b[38;5;66;03m# If using a classification model that outputs probabilities (e.g., softmax), use argmax to get the predicted class\u001b[39;00m\n",
      "\u001b[1;31mModuleNotFoundError\u001b[0m: No module named 'seaborn'"
     ]
    }
   ],
   "source": [
    "import numpy as np\n",
    "import matplotlib.pyplot as plt\n",
    "import seaborn as sns\n",
    "from sklearn.metrics import confusion_matrix\n",
    "\n",
    "# Step 1: Get the model's predictions on the test set\n",
    "# If using a classification model that outputs probabilities (e.g., softmax), use argmax to get the predicted class\n",
    "y_pred = model.predict(X_test)\n",
    "y_pred_classes = np.argmax(y_pred, axis=1)\n",
    "\n",
    "# Step 2: Convert the true labels to class indices (if not already in integer format)\n",
    "y_true = np.argmax(y_test, axis=1) if len(y_test.shape) > 1 else y_test\n",
    "\n",
    "# Step 3: Compute the confusion matrix\n",
    "cm = confusion_matrix(y_true, y_pred_classes)\n",
    "\n",
    "# Step 4: Plot the confusion matrix\n",
    "plt.figure(figsize=(10, 8))\n",
    "sns.heatmap(cm, annot=True, fmt='d', cmap='Blues', xticklabels=np.arange(len(np.unique(y_true))), yticklabels=np.arange(len(np.unique(y_true))))\n",
    "plt.xlabel('Predicted')\n",
    "plt.ylabel('True')\n",
    "plt.title('Confusion Matrix')\n",
    "plt.show()\n"
   ]
  },
  {
   "cell_type": "code",
   "execution_count": 49,
   "id": "390e5851-e0f4-4802-a76c-f2d12a6508de",
   "metadata": {},
   "outputs": [
    {
     "name": "stdout",
     "output_type": "stream",
     "text": [
      "Collecting seaborn\n",
      "  Downloading seaborn-0.13.2-py3-none-any.whl.metadata (5.4 kB)\n",
      "Requirement already satisfied: numpy!=1.24.0,>=1.20 in c:\\users\\asus\\pycharmprojects\\voicemodel\\venv\\lib\\site-packages (from seaborn) (2.0.2)\n",
      "Requirement already satisfied: pandas>=1.2 in c:\\users\\asus\\pycharmprojects\\voicemodel\\venv\\lib\\site-packages (from seaborn) (2.2.3)\n",
      "Requirement already satisfied: matplotlib!=3.6.1,>=3.4 in c:\\users\\asus\\pycharmprojects\\voicemodel\\venv\\lib\\site-packages (from seaborn) (3.9.2)\n",
      "Requirement already satisfied: contourpy>=1.0.1 in c:\\users\\asus\\pycharmprojects\\voicemodel\\venv\\lib\\site-packages (from matplotlib!=3.6.1,>=3.4->seaborn) (1.3.1)\n",
      "Requirement already satisfied: cycler>=0.10 in c:\\users\\asus\\pycharmprojects\\voicemodel\\venv\\lib\\site-packages (from matplotlib!=3.6.1,>=3.4->seaborn) (0.12.1)\n",
      "Requirement already satisfied: fonttools>=4.22.0 in c:\\users\\asus\\pycharmprojects\\voicemodel\\venv\\lib\\site-packages (from matplotlib!=3.6.1,>=3.4->seaborn) (4.55.0)\n",
      "Requirement already satisfied: kiwisolver>=1.3.1 in c:\\users\\asus\\pycharmprojects\\voicemodel\\venv\\lib\\site-packages (from matplotlib!=3.6.1,>=3.4->seaborn) (1.4.7)\n",
      "Requirement already satisfied: packaging>=20.0 in c:\\users\\asus\\pycharmprojects\\voicemodel\\venv\\lib\\site-packages (from matplotlib!=3.6.1,>=3.4->seaborn) (24.1)\n",
      "Requirement already satisfied: pillow>=8 in c:\\users\\asus\\pycharmprojects\\voicemodel\\venv\\lib\\site-packages (from matplotlib!=3.6.1,>=3.4->seaborn) (11.0.0)\n",
      "Requirement already satisfied: pyparsing>=2.3.1 in c:\\users\\asus\\pycharmprojects\\voicemodel\\venv\\lib\\site-packages (from matplotlib!=3.6.1,>=3.4->seaborn) (3.2.0)\n",
      "Requirement already satisfied: python-dateutil>=2.7 in c:\\users\\asus\\pycharmprojects\\voicemodel\\venv\\lib\\site-packages (from matplotlib!=3.6.1,>=3.4->seaborn) (2.9.0.post0)\n",
      "Requirement already satisfied: pytz>=2020.1 in c:\\users\\asus\\pycharmprojects\\voicemodel\\venv\\lib\\site-packages (from pandas>=1.2->seaborn) (2024.2)\n",
      "Requirement already satisfied: tzdata>=2022.7 in c:\\users\\asus\\pycharmprojects\\voicemodel\\venv\\lib\\site-packages (from pandas>=1.2->seaborn) (2024.2)\n",
      "Requirement already satisfied: six>=1.5 in c:\\users\\asus\\pycharmprojects\\voicemodel\\venv\\lib\\site-packages (from python-dateutil>=2.7->matplotlib!=3.6.1,>=3.4->seaborn) (1.16.0)\n",
      "Downloading seaborn-0.13.2-py3-none-any.whl (294 kB)\n",
      "Installing collected packages: seaborn\n",
      "Successfully installed seaborn-0.13.2\n",
      "Note: you may need to restart the kernel to use updated packages.\n"
     ]
    }
   ],
   "source": [
    "pip install seaborn\n"
   ]
  },
  {
   "cell_type": "code",
   "execution_count": 50,
   "id": "3499232f-007f-45b7-844c-93cded83cb42",
   "metadata": {},
   "outputs": [
    {
     "name": "stdout",
     "output_type": "stream",
     "text": [
      "\u001b[1m17/17\u001b[0m \u001b[32m━━━━━━━━━━━━━━━━━━━━\u001b[0m\u001b[37m\u001b[0m \u001b[1m0s\u001b[0m 6ms/step\n"
     ]
    },
    {
     "data": {
      "image/png": "[encoded data removed]",
      "text/plain": [
       "<Figure size 800x600 with 2 Axes>"
      ]
     },
     "metadata": {},
     "output_type": "display_data"
    }
   ],
   "source": [
    "import numpy as np\n",
    "import matplotlib.pyplot as plt\n",
    "from sklearn.metrics import confusion_matrix\n",
    "\n",
    "# Step 1: Get the model's predictions on the test set\n",
    "y_pred = model.predict(X_test)\n",
    "y_pred_classes = np.argmax(y_pred, axis=1)\n",
    "\n",
    "# Step 2: Convert the true labels to class indices (if not already in integer format)\n",
    "y_true = np.argmax(y_test, axis=1) if len(y_test.shape) > 1 else y_test\n",
    "\n",
    "# Step 3: Compute the confusion matrix\n",
    "cm = confusion_matrix(y_true, y_pred_classes)\n",
    "\n",
    "# Step 4: Plot the confusion matrix using matplotlib\n",
    "plt.figure(figsize=(8, 6))\n",
    "plt.imshow(cm, interpolation='nearest', cmap=plt.cm.Blues)\n",
    "plt.title('Confusion Matrix')\n",
    "plt.colorbar()\n",
    "tick_marks = np.arange(len(np.unique(y_true)))\n",
    "plt.xticks(tick_marks, tick_marks)\n",
    "plt.yticks(tick_marks, tick_marks)\n",
    "\n",
    "# Add labels and annotations\n",
    "plt.xlabel('Predicted')\n",
    "plt.ylabel('True')\n",
    "for i in range(len(cm)):\n",
    "    for j in range(len(cm)):\n",
    "        plt.text(j, i, cm[i, j], ha='center', va='center', color='white')\n",
    "\n",
    "plt.show()\n"
   ]
  },
  {
   "cell_type": "code",
   "execution_count": 51,
   "id": "4933233a-5e9a-46db-8dc5-d441f03d5cb1",
   "metadata": {},
   "outputs": [
    {
     "name": "stdout",
     "output_type": "stream",
     "text": [
      "\u001b[1m17/17\u001b[0m \u001b[32m━━━━━━━━━━━━━━━━━━━━\u001b[0m\u001b[37m\u001b[0m \u001b[1m0s\u001b[0m 6ms/step\n",
      "              precision    recall  f1-score   support\n",
      "\n",
      "           0       0.73      0.73      0.73        67\n",
      "           1       0.95      0.89      0.92        62\n",
      "           2       0.94      0.98      0.96        45\n",
      "           3       0.90      0.85      0.88        54\n",
      "           4       0.95      0.91      0.93        44\n",
      "           5       0.94      0.96      0.95        46\n",
      "           6       0.85      0.98      0.91        48\n",
      "           7       0.68      0.69      0.68        55\n",
      "           8       0.96      0.92      0.94        52\n",
      "           9       0.93      0.93      0.93        56\n",
      "\n",
      "    accuracy                           0.88       529\n",
      "   macro avg       0.88      0.88      0.88       529\n",
      "weighted avg       0.88      0.88      0.88       529\n",
      "\n",
      "   Class  Precision    Recall  F1-Score\n",
      "0      0   0.731343  0.731343  0.731343\n",
      "1      1   0.948276  0.887097  0.916667\n",
      "2      2   0.936170  0.977778  0.956522\n",
      "3      3   0.901961  0.851852  0.876190\n",
      "4      4   0.952381  0.909091  0.930233\n",
      "5      5   0.936170  0.956522  0.946237\n",
      "6      6   0.854545  0.979167  0.912621\n",
      "7      7   0.678571  0.690909  0.684685\n",
      "8      8   0.960000  0.923077  0.941176\n",
      "9      9   0.928571  0.928571  0.928571\n"
     ]
    }
   ],
   "source": [
    "import numpy as np\n",
    "from sklearn.metrics import precision_score, recall_score, f1_score, classification_report\n",
    "\n",
    "# Step 1: Get the model's predictions on the test set\n",
    "y_pred = model.predict(X_test)\n",
    "y_pred_classes = np.argmax(y_pred, axis=1)\n",
    "\n",
    "# Step 2: Convert the true labels to class indices (if not already in integer format)\n",
    "y_true = np.argmax(y_test, axis=1) if len(y_test.shape) > 1 else y_test\n",
    "\n",
    "# Step 3: Calculate Precision, Recall, and F1-Score for each class\n",
    "precision = precision_score(y_true, y_pred_classes, average=None)\n",
    "recall = recall_score(y_true, y_pred_classes, average=None)\n",
    "f1 = f1_score(y_true, y_pred_classes, average=None)\n",
    "\n",
    "# Step 4: Print or display the results in a table\n",
    "# Optionally, print a classification report (which includes precision, recall, and f1-score)\n",
    "print(classification_report(y_true, y_pred_classes))\n",
    "\n",
    "# You can also display these metrics in a structured table format\n",
    "import pandas as pd\n",
    "\n",
    "# Create a DataFrame to display Precision, Recall, and F1 scores\n",
    "metrics_df = pd.DataFrame({\n",
    "    'Class': np.unique(y_true),\n",
    "    'Precision': precision,\n",
    "    'Recall': recall,\n",
    "    'F1-Score': f1\n",
    "})\n",
    "\n",
    "print(metrics_df)\n"
   ]
  },
  {
   "cell_type": "code",
   "execution_count": null,
   "id": "a01b8455-6e52-4360-a64d-f8d2b65c842e",
   "metadata": {},
   "outputs": [],
   "source": []
  }
 ],
 "metadata": {
  "kernelspec": {
   "display_name": "Python 3 (ipykernel)",
   "language": "python",
   "name": "python3"
  },
  "language_info": {
   "codemirror_mode": {
    "name": "ipython",
    "version": 3
   },
   "file_extension": ".py",
   "mimetype": "text/x-python",
   "name": "python",
   "nbconvert_exporter": "python",
   "pygments_lexer": "ipython3",
   "version": "3.12.7"
  }
 },
 "nbformat": 4,
 "nbformat_minor": 5
}
